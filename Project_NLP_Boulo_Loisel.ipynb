{
  "nbformat": 4,
  "nbformat_minor": 0,
  "metadata": {
    "colab": {
      "name": "Project NLP Boulo Loisel.ipynb",
      "provenance": [],
      "collapsed_sections": [],
      "toc_visible": true,
      "machine_shape": "hm"
    },
    "kernelspec": {
      "display_name": "Python 3",
      "language": "python",
      "name": "python3"
    },
    "language_info": {
      "codemirror_mode": {
        "name": "ipython",
        "version": 3
      },
      "file_extension": ".py",
      "mimetype": "text/x-python",
      "name": "python",
      "nbconvert_exporter": "python",
      "pygments_lexer": "ipython3",
      "version": "3.7.3"
    },
    "widgets": {
      "application/vnd.jupyter.widget-state+json": {
        "04eef7db77694b2b995f5630cb038ad6": {
          "model_module": "@jupyter-widgets/controls",
          "model_name": "HBoxModel",
          "state": {
            "_view_name": "HBoxView",
            "_dom_classes": [],
            "_model_name": "HBoxModel",
            "_view_module": "@jupyter-widgets/controls",
            "_model_module_version": "1.5.0",
            "_view_count": null,
            "_view_module_version": "1.5.0",
            "box_style": "",
            "layout": "IPY_MODEL_ec1482b9b32842a290536233a831967c",
            "_model_module": "@jupyter-widgets/controls",
            "children": [
              "IPY_MODEL_35387eb6b2c74515808965d5f8c93b5a",
              "IPY_MODEL_65e9f2e0b2444371a321cfbcdf24fd60"
            ]
          }
        },
        "ec1482b9b32842a290536233a831967c": {
          "model_module": "@jupyter-widgets/base",
          "model_name": "LayoutModel",
          "state": {
            "_view_name": "LayoutView",
            "grid_template_rows": null,
            "right": null,
            "justify_content": null,
            "_view_module": "@jupyter-widgets/base",
            "overflow": null,
            "_model_module_version": "1.2.0",
            "_view_count": null,
            "flex_flow": null,
            "width": null,
            "min_width": null,
            "border": null,
            "align_items": null,
            "bottom": null,
            "_model_module": "@jupyter-widgets/base",
            "top": null,
            "grid_column": null,
            "overflow_y": null,
            "overflow_x": null,
            "grid_auto_flow": null,
            "grid_area": null,
            "grid_template_columns": null,
            "flex": null,
            "_model_name": "LayoutModel",
            "justify_items": null,
            "grid_row": null,
            "max_height": null,
            "align_content": null,
            "visibility": null,
            "align_self": null,
            "height": null,
            "min_height": null,
            "padding": null,
            "grid_auto_rows": null,
            "grid_gap": null,
            "max_width": null,
            "order": null,
            "_view_module_version": "1.2.0",
            "grid_template_areas": null,
            "object_position": null,
            "object_fit": null,
            "grid_auto_columns": null,
            "margin": null,
            "display": null,
            "left": null
          }
        },
        "35387eb6b2c74515808965d5f8c93b5a": {
          "model_module": "@jupyter-widgets/controls",
          "model_name": "IntProgressModel",
          "state": {
            "_view_name": "ProgressView",
            "style": "IPY_MODEL_8542656c6d844059ad0bd43038b54260",
            "_dom_classes": [],
            "description": "100%",
            "_model_name": "IntProgressModel",
            "bar_style": "success",
            "max": 2565349,
            "_view_module": "@jupyter-widgets/controls",
            "_model_module_version": "1.5.0",
            "value": 2565349,
            "_view_count": null,
            "_view_module_version": "1.5.0",
            "orientation": "horizontal",
            "min": 0,
            "description_tooltip": null,
            "_model_module": "@jupyter-widgets/controls",
            "layout": "IPY_MODEL_8da8db52a9274530af5d629a481e7b51"
          }
        },
        "65e9f2e0b2444371a321cfbcdf24fd60": {
          "model_module": "@jupyter-widgets/controls",
          "model_name": "HTMLModel",
          "state": {
            "_view_name": "HTMLView",
            "style": "IPY_MODEL_4cb6195d10024248b1954e7b38dfdf6e",
            "_dom_classes": [],
            "description": "",
            "_model_name": "HTMLModel",
            "placeholder": "​",
            "_view_module": "@jupyter-widgets/controls",
            "_model_module_version": "1.5.0",
            "value": " 2565349/2565349 [02:36&lt;00:00, 16393.51it/s]",
            "_view_count": null,
            "_view_module_version": "1.5.0",
            "description_tooltip": null,
            "_model_module": "@jupyter-widgets/controls",
            "layout": "IPY_MODEL_5250da62edb2448d9a15fe864e85be75"
          }
        },
        "8542656c6d844059ad0bd43038b54260": {
          "model_module": "@jupyter-widgets/controls",
          "model_name": "ProgressStyleModel",
          "state": {
            "_view_name": "StyleView",
            "_model_name": "ProgressStyleModel",
            "description_width": "initial",
            "_view_module": "@jupyter-widgets/base",
            "_model_module_version": "1.5.0",
            "_view_count": null,
            "_view_module_version": "1.2.0",
            "bar_color": null,
            "_model_module": "@jupyter-widgets/controls"
          }
        },
        "8da8db52a9274530af5d629a481e7b51": {
          "model_module": "@jupyter-widgets/base",
          "model_name": "LayoutModel",
          "state": {
            "_view_name": "LayoutView",
            "grid_template_rows": null,
            "right": null,
            "justify_content": null,
            "_view_module": "@jupyter-widgets/base",
            "overflow": null,
            "_model_module_version": "1.2.0",
            "_view_count": null,
            "flex_flow": null,
            "width": null,
            "min_width": null,
            "border": null,
            "align_items": null,
            "bottom": null,
            "_model_module": "@jupyter-widgets/base",
            "top": null,
            "grid_column": null,
            "overflow_y": null,
            "overflow_x": null,
            "grid_auto_flow": null,
            "grid_area": null,
            "grid_template_columns": null,
            "flex": null,
            "_model_name": "LayoutModel",
            "justify_items": null,
            "grid_row": null,
            "max_height": null,
            "align_content": null,
            "visibility": null,
            "align_self": null,
            "height": null,
            "min_height": null,
            "padding": null,
            "grid_auto_rows": null,
            "grid_gap": null,
            "max_width": null,
            "order": null,
            "_view_module_version": "1.2.0",
            "grid_template_areas": null,
            "object_position": null,
            "object_fit": null,
            "grid_auto_columns": null,
            "margin": null,
            "display": null,
            "left": null
          }
        },
        "4cb6195d10024248b1954e7b38dfdf6e": {
          "model_module": "@jupyter-widgets/controls",
          "model_name": "DescriptionStyleModel",
          "state": {
            "_view_name": "StyleView",
            "_model_name": "DescriptionStyleModel",
            "description_width": "",
            "_view_module": "@jupyter-widgets/base",
            "_model_module_version": "1.5.0",
            "_view_count": null,
            "_view_module_version": "1.2.0",
            "_model_module": "@jupyter-widgets/controls"
          }
        },
        "5250da62edb2448d9a15fe864e85be75": {
          "model_module": "@jupyter-widgets/base",
          "model_name": "LayoutModel",
          "state": {
            "_view_name": "LayoutView",
            "grid_template_rows": null,
            "right": null,
            "justify_content": null,
            "_view_module": "@jupyter-widgets/base",
            "overflow": null,
            "_model_module_version": "1.2.0",
            "_view_count": null,
            "flex_flow": null,
            "width": null,
            "min_width": null,
            "border": null,
            "align_items": null,
            "bottom": null,
            "_model_module": "@jupyter-widgets/base",
            "top": null,
            "grid_column": null,
            "overflow_y": null,
            "overflow_x": null,
            "grid_auto_flow": null,
            "grid_area": null,
            "grid_template_columns": null,
            "flex": null,
            "_model_name": "LayoutModel",
            "justify_items": null,
            "grid_row": null,
            "max_height": null,
            "align_content": null,
            "visibility": null,
            "align_self": null,
            "height": null,
            "min_height": null,
            "padding": null,
            "grid_auto_rows": null,
            "grid_gap": null,
            "max_width": null,
            "order": null,
            "_view_module_version": "1.2.0",
            "grid_template_areas": null,
            "object_position": null,
            "object_fit": null,
            "grid_auto_columns": null,
            "margin": null,
            "display": null,
            "left": null
          }
        },
        "b88a91e4ccd5406882b5c662b347574f": {
          "model_module": "@jupyter-widgets/controls",
          "model_name": "HBoxModel",
          "state": {
            "_view_name": "HBoxView",
            "_dom_classes": [],
            "_model_name": "HBoxModel",
            "_view_module": "@jupyter-widgets/controls",
            "_model_module_version": "1.5.0",
            "_view_count": null,
            "_view_module_version": "1.5.0",
            "box_style": "",
            "layout": "IPY_MODEL_abceebfc01d44927b4f28330ba92c6c5",
            "_model_module": "@jupyter-widgets/controls",
            "children": [
              "IPY_MODEL_467917e445bd4e7d9eb9c0e1256c0c8f",
              "IPY_MODEL_dd28f1d518074ef9b898aab4ccb872c6"
            ]
          }
        },
        "abceebfc01d44927b4f28330ba92c6c5": {
          "model_module": "@jupyter-widgets/base",
          "model_name": "LayoutModel",
          "state": {
            "_view_name": "LayoutView",
            "grid_template_rows": null,
            "right": null,
            "justify_content": null,
            "_view_module": "@jupyter-widgets/base",
            "overflow": null,
            "_model_module_version": "1.2.0",
            "_view_count": null,
            "flex_flow": null,
            "width": null,
            "min_width": null,
            "border": null,
            "align_items": null,
            "bottom": null,
            "_model_module": "@jupyter-widgets/base",
            "top": null,
            "grid_column": null,
            "overflow_y": null,
            "overflow_x": null,
            "grid_auto_flow": null,
            "grid_area": null,
            "grid_template_columns": null,
            "flex": null,
            "_model_name": "LayoutModel",
            "justify_items": null,
            "grid_row": null,
            "max_height": null,
            "align_content": null,
            "visibility": null,
            "align_self": null,
            "height": null,
            "min_height": null,
            "padding": null,
            "grid_auto_rows": null,
            "grid_gap": null,
            "max_width": null,
            "order": null,
            "_view_module_version": "1.2.0",
            "grid_template_areas": null,
            "object_position": null,
            "object_fit": null,
            "grid_auto_columns": null,
            "margin": null,
            "display": null,
            "left": null
          }
        },
        "467917e445bd4e7d9eb9c0e1256c0c8f": {
          "model_module": "@jupyter-widgets/controls",
          "model_name": "IntProgressModel",
          "state": {
            "_view_name": "ProgressView",
            "style": "IPY_MODEL_cac87f95b1c8425f80c40fd1d528581e",
            "_dom_classes": [],
            "description": "100%",
            "_model_name": "IntProgressModel",
            "bar_style": "success",
            "max": 1452,
            "_view_module": "@jupyter-widgets/controls",
            "_model_module_version": "1.5.0",
            "value": 1452,
            "_view_count": null,
            "_view_module_version": "1.5.0",
            "orientation": "horizontal",
            "min": 0,
            "description_tooltip": null,
            "_model_module": "@jupyter-widgets/controls",
            "layout": "IPY_MODEL_47d7bc3c25a14d98909cd99ec9eab02b"
          }
        },
        "dd28f1d518074ef9b898aab4ccb872c6": {
          "model_module": "@jupyter-widgets/controls",
          "model_name": "HTMLModel",
          "state": {
            "_view_name": "HTMLView",
            "style": "IPY_MODEL_777a37af98d740e488410ad7b0bb1725",
            "_dom_classes": [],
            "description": "",
            "_model_name": "HTMLModel",
            "placeholder": "​",
            "_view_module": "@jupyter-widgets/controls",
            "_model_module_version": "1.5.0",
            "value": " 1452/1452 [00:02&lt;00:00, 525.67it/s]",
            "_view_count": null,
            "_view_module_version": "1.5.0",
            "description_tooltip": null,
            "_model_module": "@jupyter-widgets/controls",
            "layout": "IPY_MODEL_c50613c55e4847f8bd66181242c5cd18"
          }
        },
        "cac87f95b1c8425f80c40fd1d528581e": {
          "model_module": "@jupyter-widgets/controls",
          "model_name": "ProgressStyleModel",
          "state": {
            "_view_name": "StyleView",
            "_model_name": "ProgressStyleModel",
            "description_width": "initial",
            "_view_module": "@jupyter-widgets/base",
            "_model_module_version": "1.5.0",
            "_view_count": null,
            "_view_module_version": "1.2.0",
            "bar_color": null,
            "_model_module": "@jupyter-widgets/controls"
          }
        },
        "47d7bc3c25a14d98909cd99ec9eab02b": {
          "model_module": "@jupyter-widgets/base",
          "model_name": "LayoutModel",
          "state": {
            "_view_name": "LayoutView",
            "grid_template_rows": null,
            "right": null,
            "justify_content": null,
            "_view_module": "@jupyter-widgets/base",
            "overflow": null,
            "_model_module_version": "1.2.0",
            "_view_count": null,
            "flex_flow": null,
            "width": null,
            "min_width": null,
            "border": null,
            "align_items": null,
            "bottom": null,
            "_model_module": "@jupyter-widgets/base",
            "top": null,
            "grid_column": null,
            "overflow_y": null,
            "overflow_x": null,
            "grid_auto_flow": null,
            "grid_area": null,
            "grid_template_columns": null,
            "flex": null,
            "_model_name": "LayoutModel",
            "justify_items": null,
            "grid_row": null,
            "max_height": null,
            "align_content": null,
            "visibility": null,
            "align_self": null,
            "height": null,
            "min_height": null,
            "padding": null,
            "grid_auto_rows": null,
            "grid_gap": null,
            "max_width": null,
            "order": null,
            "_view_module_version": "1.2.0",
            "grid_template_areas": null,
            "object_position": null,
            "object_fit": null,
            "grid_auto_columns": null,
            "margin": null,
            "display": null,
            "left": null
          }
        },
        "777a37af98d740e488410ad7b0bb1725": {
          "model_module": "@jupyter-widgets/controls",
          "model_name": "DescriptionStyleModel",
          "state": {
            "_view_name": "StyleView",
            "_model_name": "DescriptionStyleModel",
            "description_width": "",
            "_view_module": "@jupyter-widgets/base",
            "_model_module_version": "1.5.0",
            "_view_count": null,
            "_view_module_version": "1.2.0",
            "_model_module": "@jupyter-widgets/controls"
          }
        },
        "c50613c55e4847f8bd66181242c5cd18": {
          "model_module": "@jupyter-widgets/base",
          "model_name": "LayoutModel",
          "state": {
            "_view_name": "LayoutView",
            "grid_template_rows": null,
            "right": null,
            "justify_content": null,
            "_view_module": "@jupyter-widgets/base",
            "overflow": null,
            "_model_module_version": "1.2.0",
            "_view_count": null,
            "flex_flow": null,
            "width": null,
            "min_width": null,
            "border": null,
            "align_items": null,
            "bottom": null,
            "_model_module": "@jupyter-widgets/base",
            "top": null,
            "grid_column": null,
            "overflow_y": null,
            "overflow_x": null,
            "grid_auto_flow": null,
            "grid_area": null,
            "grid_template_columns": null,
            "flex": null,
            "_model_name": "LayoutModel",
            "justify_items": null,
            "grid_row": null,
            "max_height": null,
            "align_content": null,
            "visibility": null,
            "align_self": null,
            "height": null,
            "min_height": null,
            "padding": null,
            "grid_auto_rows": null,
            "grid_gap": null,
            "max_width": null,
            "order": null,
            "_view_module_version": "1.2.0",
            "grid_template_areas": null,
            "object_position": null,
            "object_fit": null,
            "grid_auto_columns": null,
            "margin": null,
            "display": null,
            "left": null
          }
        },
        "4f609e5bd8c84526bb1d5d9945270e63": {
          "model_module": "@jupyter-widgets/controls",
          "model_name": "HBoxModel",
          "state": {
            "_view_name": "HBoxView",
            "_dom_classes": [],
            "_model_name": "HBoxModel",
            "_view_module": "@jupyter-widgets/controls",
            "_model_module_version": "1.5.0",
            "_view_count": null,
            "_view_module_version": "1.5.0",
            "box_style": "",
            "layout": "IPY_MODEL_bfd34c64d31446e2843546eafbefdc04",
            "_model_module": "@jupyter-widgets/controls",
            "children": [
              "IPY_MODEL_a440f9c01009428c9fc11c388a2c946b",
              "IPY_MODEL_733b3da83cb8485eb02213c8f3759df4"
            ]
          }
        },
        "bfd34c64d31446e2843546eafbefdc04": {
          "model_module": "@jupyter-widgets/base",
          "model_name": "LayoutModel",
          "state": {
            "_view_name": "LayoutView",
            "grid_template_rows": null,
            "right": null,
            "justify_content": null,
            "_view_module": "@jupyter-widgets/base",
            "overflow": null,
            "_model_module_version": "1.2.0",
            "_view_count": null,
            "flex_flow": null,
            "width": null,
            "min_width": null,
            "border": null,
            "align_items": null,
            "bottom": null,
            "_model_module": "@jupyter-widgets/base",
            "top": null,
            "grid_column": null,
            "overflow_y": null,
            "overflow_x": null,
            "grid_auto_flow": null,
            "grid_area": null,
            "grid_template_columns": null,
            "flex": null,
            "_model_name": "LayoutModel",
            "justify_items": null,
            "grid_row": null,
            "max_height": null,
            "align_content": null,
            "visibility": null,
            "align_self": null,
            "height": null,
            "min_height": null,
            "padding": null,
            "grid_auto_rows": null,
            "grid_gap": null,
            "max_width": null,
            "order": null,
            "_view_module_version": "1.2.0",
            "grid_template_areas": null,
            "object_position": null,
            "object_fit": null,
            "grid_auto_columns": null,
            "margin": null,
            "display": null,
            "left": null
          }
        },
        "a440f9c01009428c9fc11c388a2c946b": {
          "model_module": "@jupyter-widgets/controls",
          "model_name": "IntProgressModel",
          "state": {
            "_view_name": "ProgressView",
            "style": "IPY_MODEL_f268fd0caab94b7f92fbe5906f13d5c8",
            "_dom_classes": [],
            "description": "100%",
            "_model_name": "IntProgressModel",
            "bar_style": "success",
            "max": 1452,
            "_view_module": "@jupyter-widgets/controls",
            "_model_module_version": "1.5.0",
            "value": 1452,
            "_view_count": null,
            "_view_module_version": "1.5.0",
            "orientation": "horizontal",
            "min": 0,
            "description_tooltip": null,
            "_model_module": "@jupyter-widgets/controls",
            "layout": "IPY_MODEL_1d68c6c863ba4266a38b09bbc14979f0"
          }
        },
        "733b3da83cb8485eb02213c8f3759df4": {
          "model_module": "@jupyter-widgets/controls",
          "model_name": "HTMLModel",
          "state": {
            "_view_name": "HTMLView",
            "style": "IPY_MODEL_890c144da6e54b9f8d99ccec52116dc1",
            "_dom_classes": [],
            "description": "",
            "_model_name": "HTMLModel",
            "placeholder": "​",
            "_view_module": "@jupyter-widgets/controls",
            "_model_module_version": "1.5.0",
            "value": " 1452/1452 [00:17&lt;00:00, 81.91it/s]",
            "_view_count": null,
            "_view_module_version": "1.5.0",
            "description_tooltip": null,
            "_model_module": "@jupyter-widgets/controls",
            "layout": "IPY_MODEL_3e1d9a45d4704a67aec80dc38e053264"
          }
        },
        "f268fd0caab94b7f92fbe5906f13d5c8": {
          "model_module": "@jupyter-widgets/controls",
          "model_name": "ProgressStyleModel",
          "state": {
            "_view_name": "StyleView",
            "_model_name": "ProgressStyleModel",
            "description_width": "initial",
            "_view_module": "@jupyter-widgets/base",
            "_model_module_version": "1.5.0",
            "_view_count": null,
            "_view_module_version": "1.2.0",
            "bar_color": null,
            "_model_module": "@jupyter-widgets/controls"
          }
        },
        "1d68c6c863ba4266a38b09bbc14979f0": {
          "model_module": "@jupyter-widgets/base",
          "model_name": "LayoutModel",
          "state": {
            "_view_name": "LayoutView",
            "grid_template_rows": null,
            "right": null,
            "justify_content": null,
            "_view_module": "@jupyter-widgets/base",
            "overflow": null,
            "_model_module_version": "1.2.0",
            "_view_count": null,
            "flex_flow": null,
            "width": null,
            "min_width": null,
            "border": null,
            "align_items": null,
            "bottom": null,
            "_model_module": "@jupyter-widgets/base",
            "top": null,
            "grid_column": null,
            "overflow_y": null,
            "overflow_x": null,
            "grid_auto_flow": null,
            "grid_area": null,
            "grid_template_columns": null,
            "flex": null,
            "_model_name": "LayoutModel",
            "justify_items": null,
            "grid_row": null,
            "max_height": null,
            "align_content": null,
            "visibility": null,
            "align_self": null,
            "height": null,
            "min_height": null,
            "padding": null,
            "grid_auto_rows": null,
            "grid_gap": null,
            "max_width": null,
            "order": null,
            "_view_module_version": "1.2.0",
            "grid_template_areas": null,
            "object_position": null,
            "object_fit": null,
            "grid_auto_columns": null,
            "margin": null,
            "display": null,
            "left": null
          }
        },
        "890c144da6e54b9f8d99ccec52116dc1": {
          "model_module": "@jupyter-widgets/controls",
          "model_name": "DescriptionStyleModel",
          "state": {
            "_view_name": "StyleView",
            "_model_name": "DescriptionStyleModel",
            "description_width": "",
            "_view_module": "@jupyter-widgets/base",
            "_model_module_version": "1.5.0",
            "_view_count": null,
            "_view_module_version": "1.2.0",
            "_model_module": "@jupyter-widgets/controls"
          }
        },
        "3e1d9a45d4704a67aec80dc38e053264": {
          "model_module": "@jupyter-widgets/base",
          "model_name": "LayoutModel",
          "state": {
            "_view_name": "LayoutView",
            "grid_template_rows": null,
            "right": null,
            "justify_content": null,
            "_view_module": "@jupyter-widgets/base",
            "overflow": null,
            "_model_module_version": "1.2.0",
            "_view_count": null,
            "flex_flow": null,
            "width": null,
            "min_width": null,
            "border": null,
            "align_items": null,
            "bottom": null,
            "_model_module": "@jupyter-widgets/base",
            "top": null,
            "grid_column": null,
            "overflow_y": null,
            "overflow_x": null,
            "grid_auto_flow": null,
            "grid_area": null,
            "grid_template_columns": null,
            "flex": null,
            "_model_name": "LayoutModel",
            "justify_items": null,
            "grid_row": null,
            "max_height": null,
            "align_content": null,
            "visibility": null,
            "align_self": null,
            "height": null,
            "min_height": null,
            "padding": null,
            "grid_auto_rows": null,
            "grid_gap": null,
            "max_width": null,
            "order": null,
            "_view_module_version": "1.2.0",
            "grid_template_areas": null,
            "object_position": null,
            "object_fit": null,
            "grid_auto_columns": null,
            "margin": null,
            "display": null,
            "left": null
          }
        },
        "6e938a4b647e4046994a7f8fb0957ff9": {
          "model_module": "@jupyter-widgets/controls",
          "model_name": "HBoxModel",
          "state": {
            "_view_name": "HBoxView",
            "_dom_classes": [],
            "_model_name": "HBoxModel",
            "_view_module": "@jupyter-widgets/controls",
            "_model_module_version": "1.5.0",
            "_view_count": null,
            "_view_module_version": "1.5.0",
            "box_style": "",
            "layout": "IPY_MODEL_5b5a2938580a419f829ad11323384701",
            "_model_module": "@jupyter-widgets/controls",
            "children": [
              "IPY_MODEL_54130d6d06104c18a6298835a5d2de2f",
              "IPY_MODEL_01063cb4b396485e9426743cec78183c"
            ]
          }
        },
        "5b5a2938580a419f829ad11323384701": {
          "model_module": "@jupyter-widgets/base",
          "model_name": "LayoutModel",
          "state": {
            "_view_name": "LayoutView",
            "grid_template_rows": null,
            "right": null,
            "justify_content": null,
            "_view_module": "@jupyter-widgets/base",
            "overflow": null,
            "_model_module_version": "1.2.0",
            "_view_count": null,
            "flex_flow": null,
            "width": null,
            "min_width": null,
            "border": null,
            "align_items": null,
            "bottom": null,
            "_model_module": "@jupyter-widgets/base",
            "top": null,
            "grid_column": null,
            "overflow_y": null,
            "overflow_x": null,
            "grid_auto_flow": null,
            "grid_area": null,
            "grid_template_columns": null,
            "flex": null,
            "_model_name": "LayoutModel",
            "justify_items": null,
            "grid_row": null,
            "max_height": null,
            "align_content": null,
            "visibility": null,
            "align_self": null,
            "height": null,
            "min_height": null,
            "padding": null,
            "grid_auto_rows": null,
            "grid_gap": null,
            "max_width": null,
            "order": null,
            "_view_module_version": "1.2.0",
            "grid_template_areas": null,
            "object_position": null,
            "object_fit": null,
            "grid_auto_columns": null,
            "margin": null,
            "display": null,
            "left": null
          }
        },
        "54130d6d06104c18a6298835a5d2de2f": {
          "model_module": "@jupyter-widgets/controls",
          "model_name": "IntProgressModel",
          "state": {
            "_view_name": "ProgressView",
            "style": "IPY_MODEL_168a59d5bc5c45d5b7461637f2638899",
            "_dom_classes": [],
            "description": "100%",
            "_model_name": "IntProgressModel",
            "bar_style": "success",
            "max": 1452,
            "_view_module": "@jupyter-widgets/controls",
            "_model_module_version": "1.5.0",
            "value": 1452,
            "_view_count": null,
            "_view_module_version": "1.5.0",
            "orientation": "horizontal",
            "min": 0,
            "description_tooltip": null,
            "_model_module": "@jupyter-widgets/controls",
            "layout": "IPY_MODEL_797776e3588a49528f24aaf8aa9c2401"
          }
        },
        "01063cb4b396485e9426743cec78183c": {
          "model_module": "@jupyter-widgets/controls",
          "model_name": "HTMLModel",
          "state": {
            "_view_name": "HTMLView",
            "style": "IPY_MODEL_2c501d5505da46b7b34bee918c049585",
            "_dom_classes": [],
            "description": "",
            "_model_name": "HTMLModel",
            "placeholder": "​",
            "_view_module": "@jupyter-widgets/controls",
            "_model_module_version": "1.5.0",
            "value": " 1452/1452 [00:00&lt;00:00, 4349.29it/s]",
            "_view_count": null,
            "_view_module_version": "1.5.0",
            "description_tooltip": null,
            "_model_module": "@jupyter-widgets/controls",
            "layout": "IPY_MODEL_ff63e7c2fd07466ca1c0370bdf159faa"
          }
        },
        "168a59d5bc5c45d5b7461637f2638899": {
          "model_module": "@jupyter-widgets/controls",
          "model_name": "ProgressStyleModel",
          "state": {
            "_view_name": "StyleView",
            "_model_name": "ProgressStyleModel",
            "description_width": "initial",
            "_view_module": "@jupyter-widgets/base",
            "_model_module_version": "1.5.0",
            "_view_count": null,
            "_view_module_version": "1.2.0",
            "bar_color": null,
            "_model_module": "@jupyter-widgets/controls"
          }
        },
        "797776e3588a49528f24aaf8aa9c2401": {
          "model_module": "@jupyter-widgets/base",
          "model_name": "LayoutModel",
          "state": {
            "_view_name": "LayoutView",
            "grid_template_rows": null,
            "right": null,
            "justify_content": null,
            "_view_module": "@jupyter-widgets/base",
            "overflow": null,
            "_model_module_version": "1.2.0",
            "_view_count": null,
            "flex_flow": null,
            "width": null,
            "min_width": null,
            "border": null,
            "align_items": null,
            "bottom": null,
            "_model_module": "@jupyter-widgets/base",
            "top": null,
            "grid_column": null,
            "overflow_y": null,
            "overflow_x": null,
            "grid_auto_flow": null,
            "grid_area": null,
            "grid_template_columns": null,
            "flex": null,
            "_model_name": "LayoutModel",
            "justify_items": null,
            "grid_row": null,
            "max_height": null,
            "align_content": null,
            "visibility": null,
            "align_self": null,
            "height": null,
            "min_height": null,
            "padding": null,
            "grid_auto_rows": null,
            "grid_gap": null,
            "max_width": null,
            "order": null,
            "_view_module_version": "1.2.0",
            "grid_template_areas": null,
            "object_position": null,
            "object_fit": null,
            "grid_auto_columns": null,
            "margin": null,
            "display": null,
            "left": null
          }
        },
        "2c501d5505da46b7b34bee918c049585": {
          "model_module": "@jupyter-widgets/controls",
          "model_name": "DescriptionStyleModel",
          "state": {
            "_view_name": "StyleView",
            "_model_name": "DescriptionStyleModel",
            "description_width": "",
            "_view_module": "@jupyter-widgets/base",
            "_model_module_version": "1.5.0",
            "_view_count": null,
            "_view_module_version": "1.2.0",
            "_model_module": "@jupyter-widgets/controls"
          }
        },
        "ff63e7c2fd07466ca1c0370bdf159faa": {
          "model_module": "@jupyter-widgets/base",
          "model_name": "LayoutModel",
          "state": {
            "_view_name": "LayoutView",
            "grid_template_rows": null,
            "right": null,
            "justify_content": null,
            "_view_module": "@jupyter-widgets/base",
            "overflow": null,
            "_model_module_version": "1.2.0",
            "_view_count": null,
            "flex_flow": null,
            "width": null,
            "min_width": null,
            "border": null,
            "align_items": null,
            "bottom": null,
            "_model_module": "@jupyter-widgets/base",
            "top": null,
            "grid_column": null,
            "overflow_y": null,
            "overflow_x": null,
            "grid_auto_flow": null,
            "grid_area": null,
            "grid_template_columns": null,
            "flex": null,
            "_model_name": "LayoutModel",
            "justify_items": null,
            "grid_row": null,
            "max_height": null,
            "align_content": null,
            "visibility": null,
            "align_self": null,
            "height": null,
            "min_height": null,
            "padding": null,
            "grid_auto_rows": null,
            "grid_gap": null,
            "max_width": null,
            "order": null,
            "_view_module_version": "1.2.0",
            "grid_template_areas": null,
            "object_position": null,
            "object_fit": null,
            "grid_auto_columns": null,
            "margin": null,
            "display": null,
            "left": null
          }
        },
        "54d185a54df845d598e65d383fe0ec44": {
          "model_module": "@jupyter-widgets/controls",
          "model_name": "HBoxModel",
          "state": {
            "_view_name": "HBoxView",
            "_dom_classes": [],
            "_model_name": "HBoxModel",
            "_view_module": "@jupyter-widgets/controls",
            "_model_module_version": "1.5.0",
            "_view_count": null,
            "_view_module_version": "1.5.0",
            "box_style": "",
            "layout": "IPY_MODEL_457619d8d71d431f930aa5bbc65a127c",
            "_model_module": "@jupyter-widgets/controls",
            "children": [
              "IPY_MODEL_562d97eabba541a79f3ff3bd64c34578",
              "IPY_MODEL_75e3a100917f4efb80746a36992d80f9"
            ]
          }
        },
        "457619d8d71d431f930aa5bbc65a127c": {
          "model_module": "@jupyter-widgets/base",
          "model_name": "LayoutModel",
          "state": {
            "_view_name": "LayoutView",
            "grid_template_rows": null,
            "right": null,
            "justify_content": null,
            "_view_module": "@jupyter-widgets/base",
            "overflow": null,
            "_model_module_version": "1.2.0",
            "_view_count": null,
            "flex_flow": null,
            "width": null,
            "min_width": null,
            "border": null,
            "align_items": null,
            "bottom": null,
            "_model_module": "@jupyter-widgets/base",
            "top": null,
            "grid_column": null,
            "overflow_y": null,
            "overflow_x": null,
            "grid_auto_flow": null,
            "grid_area": null,
            "grid_template_columns": null,
            "flex": null,
            "_model_name": "LayoutModel",
            "justify_items": null,
            "grid_row": null,
            "max_height": null,
            "align_content": null,
            "visibility": null,
            "align_self": null,
            "height": null,
            "min_height": null,
            "padding": null,
            "grid_auto_rows": null,
            "grid_gap": null,
            "max_width": null,
            "order": null,
            "_view_module_version": "1.2.0",
            "grid_template_areas": null,
            "object_position": null,
            "object_fit": null,
            "grid_auto_columns": null,
            "margin": null,
            "display": null,
            "left": null
          }
        },
        "562d97eabba541a79f3ff3bd64c34578": {
          "model_module": "@jupyter-widgets/controls",
          "model_name": "IntProgressModel",
          "state": {
            "_view_name": "ProgressView",
            "style": "IPY_MODEL_1fbbb349aa7f4a27a238a73bf9fe580a",
            "_dom_classes": [],
            "description": "100%",
            "_model_name": "IntProgressModel",
            "bar_style": "success",
            "max": 1452,
            "_view_module": "@jupyter-widgets/controls",
            "_model_module_version": "1.5.0",
            "value": 1452,
            "_view_count": null,
            "_view_module_version": "1.5.0",
            "orientation": "horizontal",
            "min": 0,
            "description_tooltip": null,
            "_model_module": "@jupyter-widgets/controls",
            "layout": "IPY_MODEL_cb6baf1c0f3b4e1a8015e475f0083b88"
          }
        },
        "75e3a100917f4efb80746a36992d80f9": {
          "model_module": "@jupyter-widgets/controls",
          "model_name": "HTMLModel",
          "state": {
            "_view_name": "HTMLView",
            "style": "IPY_MODEL_1d1a4feecd2f4fbc90d3ec690e755607",
            "_dom_classes": [],
            "description": "",
            "_model_name": "HTMLModel",
            "placeholder": "​",
            "_view_module": "@jupyter-widgets/controls",
            "_model_module_version": "1.5.0",
            "value": " 1452/1452 [00:07&lt;00:00, 201.10it/s]",
            "_view_count": null,
            "_view_module_version": "1.5.0",
            "description_tooltip": null,
            "_model_module": "@jupyter-widgets/controls",
            "layout": "IPY_MODEL_088a9bfe05354fe78feacd45a42ba949"
          }
        },
        "1fbbb349aa7f4a27a238a73bf9fe580a": {
          "model_module": "@jupyter-widgets/controls",
          "model_name": "ProgressStyleModel",
          "state": {
            "_view_name": "StyleView",
            "_model_name": "ProgressStyleModel",
            "description_width": "initial",
            "_view_module": "@jupyter-widgets/base",
            "_model_module_version": "1.5.0",
            "_view_count": null,
            "_view_module_version": "1.2.0",
            "bar_color": null,
            "_model_module": "@jupyter-widgets/controls"
          }
        },
        "cb6baf1c0f3b4e1a8015e475f0083b88": {
          "model_module": "@jupyter-widgets/base",
          "model_name": "LayoutModel",
          "state": {
            "_view_name": "LayoutView",
            "grid_template_rows": null,
            "right": null,
            "justify_content": null,
            "_view_module": "@jupyter-widgets/base",
            "overflow": null,
            "_model_module_version": "1.2.0",
            "_view_count": null,
            "flex_flow": null,
            "width": null,
            "min_width": null,
            "border": null,
            "align_items": null,
            "bottom": null,
            "_model_module": "@jupyter-widgets/base",
            "top": null,
            "grid_column": null,
            "overflow_y": null,
            "overflow_x": null,
            "grid_auto_flow": null,
            "grid_area": null,
            "grid_template_columns": null,
            "flex": null,
            "_model_name": "LayoutModel",
            "justify_items": null,
            "grid_row": null,
            "max_height": null,
            "align_content": null,
            "visibility": null,
            "align_self": null,
            "height": null,
            "min_height": null,
            "padding": null,
            "grid_auto_rows": null,
            "grid_gap": null,
            "max_width": null,
            "order": null,
            "_view_module_version": "1.2.0",
            "grid_template_areas": null,
            "object_position": null,
            "object_fit": null,
            "grid_auto_columns": null,
            "margin": null,
            "display": null,
            "left": null
          }
        },
        "1d1a4feecd2f4fbc90d3ec690e755607": {
          "model_module": "@jupyter-widgets/controls",
          "model_name": "DescriptionStyleModel",
          "state": {
            "_view_name": "StyleView",
            "_model_name": "DescriptionStyleModel",
            "description_width": "",
            "_view_module": "@jupyter-widgets/base",
            "_model_module_version": "1.5.0",
            "_view_count": null,
            "_view_module_version": "1.2.0",
            "_model_module": "@jupyter-widgets/controls"
          }
        },
        "088a9bfe05354fe78feacd45a42ba949": {
          "model_module": "@jupyter-widgets/base",
          "model_name": "LayoutModel",
          "state": {
            "_view_name": "LayoutView",
            "grid_template_rows": null,
            "right": null,
            "justify_content": null,
            "_view_module": "@jupyter-widgets/base",
            "overflow": null,
            "_model_module_version": "1.2.0",
            "_view_count": null,
            "flex_flow": null,
            "width": null,
            "min_width": null,
            "border": null,
            "align_items": null,
            "bottom": null,
            "_model_module": "@jupyter-widgets/base",
            "top": null,
            "grid_column": null,
            "overflow_y": null,
            "overflow_x": null,
            "grid_auto_flow": null,
            "grid_area": null,
            "grid_template_columns": null,
            "flex": null,
            "_model_name": "LayoutModel",
            "justify_items": null,
            "grid_row": null,
            "max_height": null,
            "align_content": null,
            "visibility": null,
            "align_self": null,
            "height": null,
            "min_height": null,
            "padding": null,
            "grid_auto_rows": null,
            "grid_gap": null,
            "max_width": null,
            "order": null,
            "_view_module_version": "1.2.0",
            "grid_template_areas": null,
            "object_position": null,
            "object_fit": null,
            "grid_auto_columns": null,
            "margin": null,
            "display": null,
            "left": null
          }
        },
        "941804ac0617409f9f3025aef04c6ad1": {
          "model_module": "@jupyter-widgets/controls",
          "model_name": "HBoxModel",
          "state": {
            "_view_name": "HBoxView",
            "_dom_classes": [],
            "_model_name": "HBoxModel",
            "_view_module": "@jupyter-widgets/controls",
            "_model_module_version": "1.5.0",
            "_view_count": null,
            "_view_module_version": "1.5.0",
            "box_style": "",
            "layout": "IPY_MODEL_78c8eaf53a004105bbbacb1d15118d7a",
            "_model_module": "@jupyter-widgets/controls",
            "children": [
              "IPY_MODEL_88fb631450bf45e3938a7e8d52b2bd19",
              "IPY_MODEL_eea58e4e1e03409194c261362c018d81"
            ]
          }
        },
        "78c8eaf53a004105bbbacb1d15118d7a": {
          "model_module": "@jupyter-widgets/base",
          "model_name": "LayoutModel",
          "state": {
            "_view_name": "LayoutView",
            "grid_template_rows": null,
            "right": null,
            "justify_content": null,
            "_view_module": "@jupyter-widgets/base",
            "overflow": null,
            "_model_module_version": "1.2.0",
            "_view_count": null,
            "flex_flow": null,
            "width": null,
            "min_width": null,
            "border": null,
            "align_items": null,
            "bottom": null,
            "_model_module": "@jupyter-widgets/base",
            "top": null,
            "grid_column": null,
            "overflow_y": null,
            "overflow_x": null,
            "grid_auto_flow": null,
            "grid_area": null,
            "grid_template_columns": null,
            "flex": null,
            "_model_name": "LayoutModel",
            "justify_items": null,
            "grid_row": null,
            "max_height": null,
            "align_content": null,
            "visibility": null,
            "align_self": null,
            "height": null,
            "min_height": null,
            "padding": null,
            "grid_auto_rows": null,
            "grid_gap": null,
            "max_width": null,
            "order": null,
            "_view_module_version": "1.2.0",
            "grid_template_areas": null,
            "object_position": null,
            "object_fit": null,
            "grid_auto_columns": null,
            "margin": null,
            "display": null,
            "left": null
          }
        },
        "88fb631450bf45e3938a7e8d52b2bd19": {
          "model_module": "@jupyter-widgets/controls",
          "model_name": "IntProgressModel",
          "state": {
            "_view_name": "ProgressView",
            "style": "IPY_MODEL_0a8ec24c04db4553bbbaf901d99a51d8",
            "_dom_classes": [],
            "description": "100%",
            "_model_name": "IntProgressModel",
            "bar_style": "success",
            "max": 1452,
            "_view_module": "@jupyter-widgets/controls",
            "_model_module_version": "1.5.0",
            "value": 1452,
            "_view_count": null,
            "_view_module_version": "1.5.0",
            "orientation": "horizontal",
            "min": 0,
            "description_tooltip": null,
            "_model_module": "@jupyter-widgets/controls",
            "layout": "IPY_MODEL_8c61c73da24545ba87af0e502f8bd451"
          }
        },
        "eea58e4e1e03409194c261362c018d81": {
          "model_module": "@jupyter-widgets/controls",
          "model_name": "HTMLModel",
          "state": {
            "_view_name": "HTMLView",
            "style": "IPY_MODEL_fe4daecab6104650a8ccae0669776970",
            "_dom_classes": [],
            "description": "",
            "_model_name": "HTMLModel",
            "placeholder": "​",
            "_view_module": "@jupyter-widgets/controls",
            "_model_module_version": "1.5.0",
            "value": " 1452/1452 [00:04&lt;00:00, 321.16it/s]",
            "_view_count": null,
            "_view_module_version": "1.5.0",
            "description_tooltip": null,
            "_model_module": "@jupyter-widgets/controls",
            "layout": "IPY_MODEL_75d0805c0b564cc781684aadfb4a2afd"
          }
        },
        "0a8ec24c04db4553bbbaf901d99a51d8": {
          "model_module": "@jupyter-widgets/controls",
          "model_name": "ProgressStyleModel",
          "state": {
            "_view_name": "StyleView",
            "_model_name": "ProgressStyleModel",
            "description_width": "initial",
            "_view_module": "@jupyter-widgets/base",
            "_model_module_version": "1.5.0",
            "_view_count": null,
            "_view_module_version": "1.2.0",
            "bar_color": null,
            "_model_module": "@jupyter-widgets/controls"
          }
        },
        "8c61c73da24545ba87af0e502f8bd451": {
          "model_module": "@jupyter-widgets/base",
          "model_name": "LayoutModel",
          "state": {
            "_view_name": "LayoutView",
            "grid_template_rows": null,
            "right": null,
            "justify_content": null,
            "_view_module": "@jupyter-widgets/base",
            "overflow": null,
            "_model_module_version": "1.2.0",
            "_view_count": null,
            "flex_flow": null,
            "width": null,
            "min_width": null,
            "border": null,
            "align_items": null,
            "bottom": null,
            "_model_module": "@jupyter-widgets/base",
            "top": null,
            "grid_column": null,
            "overflow_y": null,
            "overflow_x": null,
            "grid_auto_flow": null,
            "grid_area": null,
            "grid_template_columns": null,
            "flex": null,
            "_model_name": "LayoutModel",
            "justify_items": null,
            "grid_row": null,
            "max_height": null,
            "align_content": null,
            "visibility": null,
            "align_self": null,
            "height": null,
            "min_height": null,
            "padding": null,
            "grid_auto_rows": null,
            "grid_gap": null,
            "max_width": null,
            "order": null,
            "_view_module_version": "1.2.0",
            "grid_template_areas": null,
            "object_position": null,
            "object_fit": null,
            "grid_auto_columns": null,
            "margin": null,
            "display": null,
            "left": null
          }
        },
        "fe4daecab6104650a8ccae0669776970": {
          "model_module": "@jupyter-widgets/controls",
          "model_name": "DescriptionStyleModel",
          "state": {
            "_view_name": "StyleView",
            "_model_name": "DescriptionStyleModel",
            "description_width": "",
            "_view_module": "@jupyter-widgets/base",
            "_model_module_version": "1.5.0",
            "_view_count": null,
            "_view_module_version": "1.2.0",
            "_model_module": "@jupyter-widgets/controls"
          }
        },
        "75d0805c0b564cc781684aadfb4a2afd": {
          "model_module": "@jupyter-widgets/base",
          "model_name": "LayoutModel",
          "state": {
            "_view_name": "LayoutView",
            "grid_template_rows": null,
            "right": null,
            "justify_content": null,
            "_view_module": "@jupyter-widgets/base",
            "overflow": null,
            "_model_module_version": "1.2.0",
            "_view_count": null,
            "flex_flow": null,
            "width": null,
            "min_width": null,
            "border": null,
            "align_items": null,
            "bottom": null,
            "_model_module": "@jupyter-widgets/base",
            "top": null,
            "grid_column": null,
            "overflow_y": null,
            "overflow_x": null,
            "grid_auto_flow": null,
            "grid_area": null,
            "grid_template_columns": null,
            "flex": null,
            "_model_name": "LayoutModel",
            "justify_items": null,
            "grid_row": null,
            "max_height": null,
            "align_content": null,
            "visibility": null,
            "align_self": null,
            "height": null,
            "min_height": null,
            "padding": null,
            "grid_auto_rows": null,
            "grid_gap": null,
            "max_width": null,
            "order": null,
            "_view_module_version": "1.2.0",
            "grid_template_areas": null,
            "object_position": null,
            "object_fit": null,
            "grid_auto_columns": null,
            "margin": null,
            "display": null,
            "left": null
          }
        }
      }
    }
  },
  "cells": [
    {
      "cell_type": "markdown",
      "metadata": {
        "id": "14L3yS7bHkCC",
        "colab_type": "text"
      },
      "source": [
        "# NLP Project: Prediction of product success on Amazon\n",
        "### ENSAE Paris\n",
        "### Authors: Yann Boulo and Tristan Loisel\n",
        "### Professor: Benjamin Muller"
      ]
    },
    {
      "cell_type": "code",
      "metadata": {
        "colab_type": "code",
        "id": "Iu-Peuehh1Rv",
        "colab": {}
      },
      "source": [
        "import pandas as pd\n",
        "import numpy as np\n",
        "import matplotlib.pyplot as plt\n",
        "import os\n",
        "import json\n",
        "import gzip\n",
        "from urllib.request import urlopen\n",
        "from tqdm import tqdm_notebook as tqdm\n",
        "from collections import defaultdict"
      ],
      "execution_count": 0,
      "outputs": []
    },
    {
      "cell_type": "markdown",
      "metadata": {
        "colab_type": "text",
        "id": "ktgxxr0yihb5"
      },
      "source": [
        "# Data import"
      ]
    },
    {
      "cell_type": "markdown",
      "metadata": {
        "id": "sn8t0NnN9RL3",
        "colab_type": "text"
      },
      "source": [
        "We import two datasets:\n",
        "\n",
        "\n",
        "*   one containing **all the reviews** and overall ratings of products categorized as video games by amazon\n",
        "*   the second one containing all **data about this products** (title, description, price...)\n",
        "\n"
      ]
    },
    {
      "cell_type": "code",
      "metadata": {
        "colab_type": "code",
        "id": "gN9aVkUQikWW",
        "outputId": "b3286a8c-0f90-4033-f68c-3a2cfb6b3947",
        "colab": {
          "base_uri": "https://localhost:8080/",
          "height": 391
        }
      },
      "source": [
        "! wget http://deepyeti.ucsd.edu/jianmo/amazon/categoryFiles/Video_Games.json.gz\n",
        "\n",
        "! wget http://deepyeti.ucsd.edu/jianmo/amazon/metaFiles/meta_Video_Games.json.gz\n"
      ],
      "execution_count": 57,
      "outputs": [
        {
          "output_type": "stream",
          "text": [
            "--2020-04-12 08:21:24--  http://deepyeti.ucsd.edu/jianmo/amazon/categoryFiles/Video_Games.json.gz\n",
            "Resolving deepyeti.ucsd.edu (deepyeti.ucsd.edu)... 169.228.63.50\n",
            "Connecting to deepyeti.ucsd.edu (deepyeti.ucsd.edu)|169.228.63.50|:80... connected.\n",
            "HTTP request sent, awaiting response... 200 OK\n",
            "Length: 522823613 (499M) [application/octet-stream]\n",
            "Saving to: ‘Video_Games.json.gz.1’\n",
            "\n",
            "Video_Games.json.gz 100%[===================>] 498.60M  10.3MB/s    in 48s     \n",
            "\n",
            "2020-04-12 08:22:13 (10.3 MB/s) - ‘Video_Games.json.gz.1’ saved [522823613/522823613]\n",
            "\n",
            "--2020-04-12 08:22:14--  http://deepyeti.ucsd.edu/jianmo/amazon/metaFiles/meta_Video_Games.json.gz\n",
            "Resolving deepyeti.ucsd.edu (deepyeti.ucsd.edu)... 169.228.63.50\n",
            "Connecting to deepyeti.ucsd.edu (deepyeti.ucsd.edu)|169.228.63.50|:80... connected.\n",
            "HTTP request sent, awaiting response... 200 OK\n",
            "Length: 80222877 (77M) [application/octet-stream]\n",
            "Saving to: ‘meta_Video_Games.json.gz.1’\n",
            "\n",
            "meta_Video_Games.js 100%[===================>]  76.51M  10.3MB/s    in 7.7s    \n",
            "\n",
            "2020-04-12 08:22:21 (9.93 MB/s) - ‘meta_Video_Games.json.gz.1’ saved [80222877/80222877]\n",
            "\n"
          ],
          "name": "stdout"
        }
      ]
    },
    {
      "cell_type": "code",
      "metadata": {
        "colab_type": "code",
        "id": "OL9XKoWYig14",
        "colab": {}
      },
      "source": [
        "def get_data(file):\n",
        "  data = []\n",
        "  with gzip.open(file) as f:\n",
        "      for l in f:\n",
        "          data.append(json.loads(l.strip()))\n",
        "  return(pd.DataFrame.from_dict(data))\n",
        "\n",
        "reviews = get_data('Video_Games.json.gz')\n",
        "metadata = get_data('meta_Video_Games.json.gz')"
      ],
      "execution_count": 0,
      "outputs": []
    },
    {
      "cell_type": "markdown",
      "metadata": {
        "colab_type": "text",
        "id": "zj39Da5NjYfh"
      },
      "source": [
        "# Data cleaning \n",
        "\n"
      ]
    },
    {
      "cell_type": "markdown",
      "metadata": {
        "colab_type": "text",
        "id": "3xuOTmyIjmrK"
      },
      "source": [
        "We first delete the columns we deemed useless in the metadata (i.e. data about the products)\n"
      ]
    },
    {
      "cell_type": "code",
      "metadata": {
        "colab_type": "code",
        "id": "06MTJ0rsjavj",
        "colab": {}
      },
      "source": [
        "del metadata[\"also_buy\"]\n",
        "del metadata[\"also_view\"]\n",
        "del metadata[\"similar_item\"]\n",
        "del metadata[\"feature\"]\n",
        "del metadata[\"details\"]\n",
        "del metadata[\"tech1\"]\n",
        "del metadata[\"tech2\"]\n",
        "del metadata[\"main_cat\"]"
      ],
      "execution_count": 0,
      "outputs": []
    },
    {
      "cell_type": "markdown",
      "metadata": {
        "colab_type": "text",
        "id": "YWXu-lN2jqHn"
      },
      "source": [
        "Then we delete NaNs in date and price columns, as we need them to be clean. The date in question is the launching date of the product on amazon.\n",
        "\n",
        "\n",
        "\n"
      ]
    },
    {
      "cell_type": "code",
      "metadata": {
        "colab_type": "code",
        "id": "V32zeMcSqpda",
        "colab": {}
      },
      "source": [
        "clean_metadata = metadata.dropna(subset=['date','price']) \n"
      ],
      "execution_count": 0,
      "outputs": []
    },
    {
      "cell_type": "markdown",
      "metadata": {
        "colab_type": "text",
        "id": "_sw3n7tslyEW"
      },
      "source": [
        "And we only keep one line for each product"
      ]
    },
    {
      "cell_type": "code",
      "metadata": {
        "colab_type": "code",
        "id": "1Di_it-JkFXZ",
        "colab": {}
      },
      "source": [
        "clean_metadata = clean_metadata.drop_duplicates(subset='asin', keep=\"last\")"
      ],
      "execution_count": 0,
      "outputs": []
    },
    {
      "cell_type": "markdown",
      "metadata": {
        "colab_type": "text",
        "id": "Br_tpGDFmLk0"
      },
      "source": [
        "We clean the prices in order to turn them into numbers"
      ]
    },
    {
      "cell_type": "code",
      "metadata": {
        "colab_type": "code",
        "id": "unJjSB1MmNox",
        "colab": {}
      },
      "source": [
        "import re\n",
        "indexes = clean_metadata.index.values.tolist()\n",
        "clean_prices = np.empty(len(clean_metadata))\n",
        "clean_prices[:]= np.NaN\n",
        "j=0\n",
        "for i in indexes:\n",
        "  s = clean_metadata[\"price\"][i]\n",
        "\n",
        "  price = re.sub('\\D', '', s[:10])\n",
        "  clean_prices[j] = float(price)/100.0\n",
        "\n",
        "  j+=1\n",
        "\n",
        "clean_metadata.insert(7, \"clean_price\", clean_prices, True)\n"
      ],
      "execution_count": 0,
      "outputs": []
    },
    {
      "cell_type": "markdown",
      "metadata": {
        "id": "rxnW2g9rSykq",
        "colab_type": "text"
      },
      "source": [
        "We convert the dates to Unix time:"
      ]
    },
    {
      "cell_type": "code",
      "metadata": {
        "id": "o98UgKtsS2B8",
        "colab_type": "code",
        "outputId": "15c94ca0-d0dd-42ea-ad0a-ac9b068cf466",
        "colab": {
          "base_uri": "https://localhost:8080/",
          "height": 34
        }
      },
      "source": [
        "import time\n",
        "import datetime\n",
        "products_dates_unix = dict()\n",
        "max_date = 0\n",
        "date = \"\"\n",
        "errors =0\n",
        "for i in clean_metadata.index.values.tolist():\n",
        "  string_date = clean_metadata[\"date\"][i]\n",
        "  asin = clean_metadata[\"asin\"][i]\n",
        "  try:\n",
        "    products_dates_unix[asin] =time.mktime(datetime.datetime.strptime(string_date, '%B %d, %Y').timetuple())\n",
        "    if products_dates_unix[asin] > max_date:\n",
        "      products_dates_unix[asin] > max_date\n",
        "      date = string_date\n",
        "  except ValueError:\n",
        "    errors +=1\n",
        "print(\"Proportion of errors: \" + str(errors/len(clean_metadata)))"
      ],
      "execution_count": 63,
      "outputs": [
        {
          "output_type": "stream",
          "text": [
            "Proportion of errors: 0.003787878787878788\n"
          ],
          "name": "stdout"
        }
      ]
    },
    {
      "cell_type": "markdown",
      "metadata": {
        "colab_type": "text",
        "id": "ZYCsk4LiH90P"
      },
      "source": [
        "We create a column containing, for each product, the number of 5/5 ratings it obtained in the four years following its release. It will enable us to create the variable we want to predict. \n",
        "\n",
        "N.B: we chose four years because the latest products in this data were released in 2016. We also tried two and three years but it led to a lower performance of the feature.\n",
        "\n",
        "The high proportion of KeyError comes from the fact that many reviews are the ones of products absent from our clean metadata because they had incomplete information (NaNs)."
      ]
    },
    {
      "cell_type": "code",
      "metadata": {
        "colab_type": "code",
        "id": "gG3j-C9aG5uI",
        "outputId": "f4040cd7-418e-4a85-8dc3-c6391f001d21",
        "colab": {
          "base_uri": "https://localhost:8080/",
          "height": 137,
          "referenced_widgets": [
            "04eef7db77694b2b995f5630cb038ad6",
            "ec1482b9b32842a290536233a831967c",
            "35387eb6b2c74515808965d5f8c93b5a",
            "65e9f2e0b2444371a321cfbcdf24fd60",
            "8542656c6d844059ad0bd43038b54260",
            "8da8db52a9274530af5d629a481e7b51",
            "4cb6195d10024248b1954e7b38dfdf6e",
            "5250da62edb2448d9a15fe864e85be75"
          ]
        }
      },
      "source": [
        "ratings = reviews[[\"asin\",\"overall\",\"reviewText\",\"unixReviewTime\"]]\n",
        "\n",
        "ratings_per_product = defaultdict(lambda:[])\n",
        "reviews_per_product = defaultdict(lambda:[])\n",
        "\n",
        "\n",
        "for i in tqdm(range(len(ratings))):\n",
        "  try:\n",
        "    id_object = ratings[\"asin\"][i]\n",
        "    rating_date = ratings[\"unixReviewTime\"][i]\n",
        "\n",
        "    product_date = products_dates_unix[id_object]\n",
        "    if product_date + 4*365*24*3600 > rating_date : #we only take the reviews which appaear less \n",
        "                                                    #than four years after the release of the product\n",
        "      ratings_per_product[id_object].append(ratings[\"overall\"][i])\n",
        "      reviews_per_product[id_object].append(ratings[\"reviewText\"][i])\n",
        "  except KeyError: # There are some errors due to the fact that metacleandata does not countain all products\n",
        "    ()\n",
        "\n",
        "\n",
        "number_fives = dict() # In this variable we write the number of overall ratings equal to five within the reviews\n",
        "\n",
        "for obj in ratings_per_product: \n",
        "  ratings_per_product[obj] = np.array(ratings_per_product[obj])\n",
        "  number_fives[obj] = np.count_nonzero(ratings_per_product[obj] - 5.0)"
      ],
      "execution_count": 64,
      "outputs": [
        {
          "output_type": "stream",
          "text": [
            "/usr/local/lib/python3.6/dist-packages/ipykernel_launcher.py:7: TqdmDeprecationWarning: This function will be removed in tqdm==5.0.0\n",
            "Please use `tqdm.notebook.tqdm` instead of `tqdm.tqdm_notebook`\n",
            "  import sys\n"
          ],
          "name": "stderr"
        },
        {
          "output_type": "display_data",
          "data": {
            "application/vnd.jupyter.widget-view+json": {
              "model_id": "04eef7db77694b2b995f5630cb038ad6",
              "version_minor": 0,
              "version_major": 2
            },
            "text/plain": [
              "HBox(children=(IntProgress(value=0, max=2565349), HTML(value='')))"
            ]
          },
          "metadata": {
            "tags": []
          }
        },
        {
          "output_type": "stream",
          "text": [
            "\n"
          ],
          "name": "stdout"
        }
      ]
    },
    {
      "cell_type": "markdown",
      "metadata": {
        "id": "pgFrZN49LVbc",
        "colab_type": "text"
      },
      "source": [
        "We then add the number of 5/5 ratings (in the four years after the release) as a column in our dataframe"
      ]
    },
    {
      "cell_type": "code",
      "metadata": {
        "colab_type": "code",
        "id": "_Hhj5tbhpiRG",
        "outputId": "d0a71614-fcd1-4458-c200-3f2367e6c228",
        "colab": {
          "base_uri": "https://localhost:8080/",
          "height": 34
        }
      },
      "source": [
        "nb_fives_column = np.empty(len(clean_metadata))\n",
        "nb_fives_column[:]= np.NaN\n",
        "j=0\n",
        "errors=0\n",
        "for i in indexes:\n",
        "    try:\n",
        "        nb_fives_column[j] = number_fives[clean_metadata[\"asin\"][i]]\n",
        "    except KeyError:\n",
        "        nb_fives_column[j]=0\n",
        "        errors +=1\n",
        "    j+=1\n",
        "print(\"Proportion of errors: \" + str(errors/len(indexes)))\n",
        "clean_metadata.insert(2, \"nb_fives\", nb_fives_column, True)"
      ],
      "execution_count": 65,
      "outputs": [
        {
          "output_type": "stream",
          "text": [
            "Proportion of errors: 0.07196969696969698\n"
          ],
          "name": "stdout"
        }
      ]
    },
    {
      "cell_type": "markdown",
      "metadata": {
        "colab_type": "text",
        "id": "Z8TUzLpAbInt"
      },
      "source": [
        "We split the data into two separate sets:\n",
        "\n",
        "- data_for_features will be used as an environment to compute some \"external\"/macro features (brand score and doc2vec nearest neighbors)\n",
        "\n",
        "- data_for_model on which we will train and test our model"
      ]
    },
    {
      "cell_type": "code",
      "metadata": {
        "colab_type": "code",
        "id": "aOxP0tGqaJUG",
        "colab": {}
      },
      "source": [
        "from sklearn.model_selection import train_test_split\n",
        "seed = 10\n",
        "data_for_features,data_for_model,_,_ = train_test_split(clean_metadata, clean_metadata, test_size=int(len(clean_metadata)/2), random_state = seed)\n",
        "# To split the data randomly, we can simply use the sklearn train_test_split function"
      ],
      "execution_count": 0,
      "outputs": []
    },
    {
      "cell_type": "markdown",
      "metadata": {
        "colab_type": "text",
        "id": "-RsF4VBTIQJk"
      },
      "source": [
        "# Creation of our features"
      ]
    },
    {
      "cell_type": "code",
      "metadata": {
        "colab_type": "code",
        "id": "wOU1LZTVsxHx",
        "outputId": "dbc57b90-d83a-42dc-f2eb-cf2e231dd31c",
        "colab": {
          "base_uri": "https://localhost:8080/",
          "height": 102
        }
      },
      "source": [
        "#this step is just a quick tokenization\n",
        "from nltk.corpus import stopwords \n",
        "from nltk.tokenize import word_tokenize \n",
        "\n",
        "import nltk\n",
        "nltk.download('stopwords')\n",
        "nltk.download('punkt')"
      ],
      "execution_count": 67,
      "outputs": [
        {
          "output_type": "stream",
          "text": [
            "[nltk_data] Downloading package stopwords to /root/nltk_data...\n",
            "[nltk_data]   Package stopwords is already up-to-date!\n",
            "[nltk_data] Downloading package punkt to /root/nltk_data...\n",
            "[nltk_data]   Package punkt is already up-to-date!\n"
          ],
          "name": "stdout"
        },
        {
          "output_type": "execute_result",
          "data": {
            "text/plain": [
              "True"
            ]
          },
          "metadata": {
            "tags": []
          },
          "execution_count": 67
        }
      ]
    },
    {
      "cell_type": "markdown",
      "metadata": {
        "colab_type": "text",
        "id": "_uQKRTTFqpan"
      },
      "source": [
        "## Description/Title length"
      ]
    },
    {
      "cell_type": "markdown",
      "metadata": {
        "id": "hoGS44W6AHt0",
        "colab_type": "text"
      },
      "source": [
        "Our first features will simply be the length of a product's title (ie denomination) and description (given to Amazon by the manufacture)"
      ]
    },
    {
      "cell_type": "code",
      "metadata": {
        "colab_type": "code",
        "id": "ahICpk9492eF",
        "colab": {}
      },
      "source": [
        "def compute_length_feature(data):\n",
        "  titles = list(data[\"title\"])\n",
        "  descriptions = list(data[\"description\"])\n",
        "  length_title = np.zeros(len(data))\n",
        "  length_description = np.zeros(len(data))\n",
        "  for i in tqdm(range(len(data))):\n",
        "    length_title[i] = len(str(titles[i]))\n",
        "    length_description[i] = len(str(descriptions[i]))\n",
        "  return((length_title,length_description))"
      ],
      "execution_count": 0,
      "outputs": []
    },
    {
      "cell_type": "code",
      "metadata": {
        "colab_type": "code",
        "id": "P6WVy7ur_BQl",
        "outputId": "02bdfae3-d548-45be-9ab5-0e423cf219de",
        "colab": {
          "base_uri": "https://localhost:8080/",
          "height": 137,
          "referenced_widgets": [
            "b88a91e4ccd5406882b5c662b347574f",
            "abceebfc01d44927b4f28330ba92c6c5",
            "467917e445bd4e7d9eb9c0e1256c0c8f",
            "dd28f1d518074ef9b898aab4ccb872c6",
            "cac87f95b1c8425f80c40fd1d528581e",
            "47d7bc3c25a14d98909cd99ec9eab02b",
            "777a37af98d740e488410ad7b0bb1725",
            "c50613c55e4847f8bd66181242c5cd18"
          ]
        }
      },
      "source": [
        "X_title_length,X_description_length = compute_length_feature(data_for_model)\n",
        "# X_something designate an array containing the feature \"something\" for each product"
      ],
      "execution_count": 69,
      "outputs": [
        {
          "output_type": "stream",
          "text": [
            "/usr/local/lib/python3.6/dist-packages/ipykernel_launcher.py:6: TqdmDeprecationWarning: This function will be removed in tqdm==5.0.0\n",
            "Please use `tqdm.notebook.tqdm` instead of `tqdm.tqdm_notebook`\n",
            "  \n"
          ],
          "name": "stderr"
        },
        {
          "output_type": "display_data",
          "data": {
            "application/vnd.jupyter.widget-view+json": {
              "model_id": "b88a91e4ccd5406882b5c662b347574f",
              "version_minor": 0,
              "version_major": 2
            },
            "text/plain": [
              "HBox(children=(IntProgress(value=0, max=1452), HTML(value='')))"
            ]
          },
          "metadata": {
            "tags": []
          }
        },
        {
          "output_type": "stream",
          "text": [
            "\n"
          ],
          "name": "stdout"
        }
      ]
    },
    {
      "cell_type": "markdown",
      "metadata": {
        "colab_type": "text",
        "id": "AqYAWKxAEiAE"
      },
      "source": [
        "## Availability of a product's picture"
      ]
    },
    {
      "cell_type": "markdown",
      "metadata": {
        "colab_type": "text",
        "id": "C-C2d2y5B79b"
      },
      "source": [
        "For a given product, this feature is worth 1 if a picture of this product is available on Amazon, and 0 otherwise."
      ]
    },
    {
      "cell_type": "code",
      "metadata": {
        "colab_type": "code",
        "id": "-paLmxbF_wku",
        "colab": {}
      },
      "source": [
        "X_images = np.zeros(len(data_for_model))\n",
        "images = list(data_for_model[\"image\"])\n",
        "for i in range(len(data_for_model)):\n",
        "  if str(images[i]) == \"nan\":\n",
        "    X_images[i]=1\n"
      ],
      "execution_count": 0,
      "outputs": []
    },
    {
      "cell_type": "markdown",
      "metadata": {
        "colab_type": "text",
        "id": "7_-W_PhvElLw"
      },
      "source": [
        "## Word2Vec similarity (descriptions)"
      ]
    },
    {
      "cell_type": "markdown",
      "metadata": {
        "id": "2ODQoRycBMmv",
        "colab_type": "text"
      },
      "source": [
        "This feature works as follows:\n",
        "- we load a pre-trained word2vec model\n",
        "- we choose a reference word we identified as relevant in this context: \"garantee\", \"quality\", \"best\", \"delivery\" etc.\n",
        "- for a given description, we compute a score according to the similarity its words have with our chosen word\n",
        "\n",
        "We compute this feature for several key-words."
      ]
    },
    {
      "cell_type": "markdown",
      "metadata": {
        "id": "dlP_E2V9LxwP",
        "colab_type": "text"
      },
      "source": [
        "We load a pre-trained model of word2vec in order to computer some similarity feature from the descriptions."
      ]
    },
    {
      "cell_type": "code",
      "metadata": {
        "id": "LIWD4at4ND3C",
        "colab_type": "code",
        "outputId": "9c7be924-ae15-44f0-da97-8a6e72d84c62",
        "colab": {
          "base_uri": "https://localhost:8080/",
          "height": 34
        }
      },
      "source": [
        "import gensim.downloader as api\n",
        "path = api.load(\"word2vec-google-news-300\", return_path=True)\n",
        "print(path)"
      ],
      "execution_count": 71,
      "outputs": [
        {
          "output_type": "stream",
          "text": [
            "/root/gensim-data/word2vec-google-news-300/word2vec-google-news-300.gz\n"
          ],
          "name": "stdout"
        }
      ]
    },
    {
      "cell_type": "code",
      "metadata": {
        "id": "l_mclyGyN7-A",
        "colab_type": "code",
        "outputId": "3151d617-371a-4e3a-c34b-98b31b4b4f6c",
        "colab": {
          "base_uri": "https://localhost:8080/",
          "height": 71
        }
      },
      "source": [
        "import gensim\n",
        "\n",
        "# Load pretrained model \n",
        "word2vec_model = gensim.models.KeyedVectors.load_word2vec_format(path, binary=True)\n"
      ],
      "execution_count": 72,
      "outputs": [
        {
          "output_type": "stream",
          "text": [
            "/usr/local/lib/python3.6/dist-packages/smart_open/smart_open_lib.py:410: UserWarning: This function is deprecated, use smart_open.open instead. See the migration notes for details: https://github.com/RaRe-Technologies/smart_open/blob/master/README.rst#migrating-to-the-new-open-function\n",
            "  'See the migration notes for details: %s' % _MIGRATION_NOTES_URL\n"
          ],
          "name": "stderr"
        }
      ]
    },
    {
      "cell_type": "markdown",
      "metadata": {
        "id": "Nc-ExRKhOBGb",
        "colab_type": "text"
      },
      "source": [
        "Computed feature: highest word similarity between given words (\"guarantee\",\"best\"...) and the words of the description "
      ]
    },
    {
      "cell_type": "code",
      "metadata": {
        "id": "_8nUlzSMFuud",
        "colab_type": "code",
        "outputId": "655d69f6-2a48-4f6a-95d1-63e7c4c846f6",
        "colab": {
          "base_uri": "https://localhost:8080/",
          "height": 51
        }
      },
      "source": [
        "import nltk\n",
        "nltk.download('wordnet')\n",
        "from nltk.corpus import wordnet as wn\n",
        "\n",
        "def compute_similarity_features_descriptions(descriptions,ref_words):\n",
        "  similarity_features = np.array([[0.0 for i in range(len(ref_words))] for j in range(len(descriptions))])\n",
        "  stop_words = stopwords.words('english') \n",
        "  description_index=0\n",
        "  for d in tqdm(descriptions):\n",
        "    if type(d)==list:\n",
        "      d_list = word_tokenize(d[0]) #tokenization \n",
        "      d_list = [w for w in d_list if not w in stop_words]\n",
        "      ref_index=0\n",
        "      for ref_word in ref_words:\n",
        "        maxscore = 0\n",
        "        for w in d_list:\n",
        "          try:\n",
        "            score = word2vec_model.similarity(w,ref_word)/len(d_list) #similarity computation\n",
        "          except KeyError:\n",
        "            ()\n",
        "          maxscore = score if maxscore < score else maxscore\n",
        "        similarity_features[description_index,ref_index]+=maxscore\n",
        "        ref_index +=1\n",
        "    description_index+=1\n",
        "\n",
        "  return(similarity_features) #we normalize the output such that it is a real number in [0,1]"
      ],
      "execution_count": 73,
      "outputs": [
        {
          "output_type": "stream",
          "text": [
            "[nltk_data] Downloading package wordnet to /root/nltk_data...\n",
            "[nltk_data]   Package wordnet is already up-to-date!\n"
          ],
          "name": "stdout"
        }
      ]
    },
    {
      "cell_type": "code",
      "metadata": {
        "id": "cOegHTF4Pczw",
        "colab_type": "code",
        "outputId": "18c85d22-9b33-4cc8-b97a-f1d364777b3a",
        "colab": {
          "base_uri": "https://localhost:8080/",
          "height": 171,
          "referenced_widgets": [
            "4f609e5bd8c84526bb1d5d9945270e63",
            "bfd34c64d31446e2843546eafbefdc04",
            "a440f9c01009428c9fc11c388a2c946b",
            "733b3da83cb8485eb02213c8f3759df4",
            "f268fd0caab94b7f92fbe5906f13d5c8",
            "1d68c6c863ba4266a38b09bbc14979f0",
            "890c144da6e54b9f8d99ccec52116dc1",
            "3e1d9a45d4704a67aec80dc38e053264"
          ]
        }
      },
      "source": [
        "X_similarity_w2v = compute_similarity_features_descriptions(data_for_model[\"description\"],[\"guarantee\",\"quality\",\"best\",\"new\",\"delivery\"])"
      ],
      "execution_count": 74,
      "outputs": [
        {
          "output_type": "stream",
          "text": [
            "/usr/local/lib/python3.6/dist-packages/ipykernel_launcher.py:9: TqdmDeprecationWarning: This function will be removed in tqdm==5.0.0\n",
            "Please use `tqdm.notebook.tqdm` instead of `tqdm.tqdm_notebook`\n",
            "  if __name__ == '__main__':\n"
          ],
          "name": "stderr"
        },
        {
          "output_type": "display_data",
          "data": {
            "application/vnd.jupyter.widget-view+json": {
              "model_id": "4f609e5bd8c84526bb1d5d9945270e63",
              "version_minor": 0,
              "version_major": 2
            },
            "text/plain": [
              "HBox(children=(IntProgress(value=0, max=1452), HTML(value='')))"
            ]
          },
          "metadata": {
            "tags": []
          }
        },
        {
          "output_type": "stream",
          "text": [
            "/usr/local/lib/python3.6/dist-packages/gensim/matutils.py:737: FutureWarning: Conversion of the second argument of issubdtype from `int` to `np.signedinteger` is deprecated. In future, it will be treated as `np.int64 == np.dtype(int).type`.\n",
            "  if np.issubdtype(vec.dtype, np.int):\n"
          ],
          "name": "stderr"
        },
        {
          "output_type": "stream",
          "text": [
            "\n"
          ],
          "name": "stdout"
        }
      ]
    },
    {
      "cell_type": "markdown",
      "metadata": {
        "id": "3RuPMpmSmwXT",
        "colab_type": "text"
      },
      "source": [
        "## Word2vec similarity (for reviews, not used in the final model but efficient)\n",
        "\n"
      ]
    },
    {
      "cell_type": "markdown",
      "metadata": {
        "id": "nAPaQ6tbMRHW",
        "colab_type": "text"
      },
      "source": [
        "Same feature as the one computed for the descriptions, except that there are several reviews per product (whereas we only have one description). Therefore, we decided to average the highest word similarity across the reviews.\n",
        "\n",
        "Also, it is important to notice that this feature serves a slightly different purpose that our main one. \n",
        "\n",
        "Our main purpose is to predict, at a product's launching time, how much success it is likely to have. For this main purpose, the reviews are irrelevant because they come from \"the future\".\n",
        "\n",
        "However, looking at the reviews allows to study the predictability of a product's score given its characteritics and reviews. Given the little supplementary works it required to adapt our former feature to reviews, we thought it was worth to do it."
      ]
    },
    {
      "cell_type": "code",
      "metadata": {
        "id": "v4k3pRKymwXU",
        "colab_type": "code",
        "colab": {}
      },
      "source": [
        "# def compute_similarity_features_reviews(id_products,ref_words):\n",
        "#     similarity_features = np.array([[0.0 for i in range(len(ref_words))] for j in range(len(id_products))])\n",
        "#     stop_words = stopwords.words('english') \n",
        "#     data_index=0\n",
        "#     for i in tqdm(range(len(id_products))):\n",
        "#     #tokenization \n",
        "#         id_object = id_products[i]\n",
        "#         reviews_list = reviews_per_product[id_object][:5]\n",
        "#         for r in reviews_list:\n",
        "#             if type(r)==str:\n",
        "#                 r_list = word_tokenize(r)\n",
        "#                 r_list = [w for w in r_list if not w in stop_words]\n",
        "#                 ref_index=0\n",
        "#                 for ref_word in ref_words:\n",
        "#                     for w in r_list:\n",
        "#                         maxscore = 0\n",
        "#                         try:\n",
        "#                           #similarity\n",
        "#                           score = word2vec_model.similarity(w,ref_word)/(len(r_list)*len(reviews_list))\n",
        "#                         except KeyError:\n",
        "#                           ()\n",
        "#                         maxscore = score if maxscore < score else maxscore\n",
        "#                     similarity_features[data_index,ref_index]+=maxscore\n",
        "#                     ref_index +=1\n",
        "#         data_index+=1\n",
        "\n",
        "#     return(np.array(similarity_features)) #we normalize the output such that it is a real number in [0,1]\n",
        "        \n",
        "  "
      ],
      "execution_count": 0,
      "outputs": []
    },
    {
      "cell_type": "code",
      "metadata": {
        "colab_type": "code",
        "id": "WJ2ynbsVyCQn",
        "colab": {}
      },
      "source": [
        "# X_similarity_reviews_w2v = compute_similarity_features_reviews(list(data_for_model[\"asin\"]),[\"guarantee\",\"quality\",\"best\",\"awesome\",\"game\",\"new\",\"essential\",\"delivery\"])"
      ],
      "execution_count": 0,
      "outputs": []
    },
    {
      "cell_type": "markdown",
      "metadata": {
        "colab_type": "text",
        "id": "FMDcUQRznBch"
      },
      "source": [
        "## Brand score (computed on data_for_features to avoid overfitting)"
      ]
    },
    {
      "cell_type": "markdown",
      "metadata": {
        "id": "TVe4lQFlMtg5",
        "colab_type": "text"
      },
      "source": [
        "We have some information about the product's brands. This feature is the average number of 5/5 ratings obtained by all the products of data_for_features within a given brand."
      ]
    },
    {
      "cell_type": "code",
      "metadata": {
        "colab_type": "code",
        "id": "K4kzkG1Ld7kh",
        "outputId": "9da72319-62d5-4102-df06-0bcabea3ffeb",
        "colab": {
          "base_uri": "https://localhost:8080/",
          "height": 105
        }
      },
      "source": [
        "brands = set(list(clean_metadata[\"brand\"]))\n",
        "\n",
        "brand_scores = dict()\n",
        "for b in brands:\n",
        "  brand_scores[b]=[]\n",
        "data_for_features_indexes = data_for_features.index.values.tolist()\n",
        "\n",
        "for i in data_for_features_indexes:\n",
        "  try:\n",
        "    brand_scores[data_for_features[\"brand\"][i]].append(data_for_features[\"nb_fives\"][i])\n",
        "    \n",
        "  except KeyError:\n",
        "    ()\n",
        "for b in brands:\n",
        "  brand_scores[b]=np.mean(np.array(brand_scores[b]))"
      ],
      "execution_count": 76,
      "outputs": [
        {
          "output_type": "stream",
          "text": [
            "/usr/local/lib/python3.6/dist-packages/numpy/core/fromnumeric.py:3335: RuntimeWarning: Mean of empty slice.\n",
            "  out=out, **kwargs)\n",
            "/usr/local/lib/python3.6/dist-packages/numpy/core/_methods.py:161: RuntimeWarning: invalid value encountered in double_scalars\n",
            "  ret = ret.dtype.type(ret / rcount)\n"
          ],
          "name": "stderr"
        }
      ]
    },
    {
      "cell_type": "code",
      "metadata": {
        "colab_type": "code",
        "id": "doMDc5bxofKU",
        "outputId": "a2ef0341-af97-4b56-d0a9-00c81a54cd16",
        "colab": {
          "base_uri": "https://localhost:8080/",
          "height": 137,
          "referenced_widgets": [
            "6e938a4b647e4046994a7f8fb0957ff9",
            "5b5a2938580a419f829ad11323384701",
            "54130d6d06104c18a6298835a5d2de2f",
            "01063cb4b396485e9426743cec78183c",
            "168a59d5bc5c45d5b7461637f2638899",
            "797776e3588a49528f24aaf8aa9c2401",
            "2c501d5505da46b7b34bee918c049585",
            "ff63e7c2fd07466ca1c0370bdf159faa"
          ]
        }
      },
      "source": [
        "def compute_brand_feature(data):\n",
        "  brand_feature = np.zeros(len(data))\n",
        "  brands_list = list(data[\"brand\"])\n",
        "  i=0\n",
        "  for b in tqdm(brands_list):\n",
        "    brand_feature[i]=brand_scores[b]\n",
        "    i+=1\n",
        "  return(brand_feature)\n",
        "\n",
        "X_brand_score = compute_brand_feature(data_for_model)"
      ],
      "execution_count": 77,
      "outputs": [
        {
          "output_type": "stream",
          "text": [
            "/usr/local/lib/python3.6/dist-packages/ipykernel_launcher.py:5: TqdmDeprecationWarning: This function will be removed in tqdm==5.0.0\n",
            "Please use `tqdm.notebook.tqdm` instead of `tqdm.tqdm_notebook`\n",
            "  \"\"\"\n"
          ],
          "name": "stderr"
        },
        {
          "output_type": "display_data",
          "data": {
            "application/vnd.jupyter.widget-view+json": {
              "model_id": "6e938a4b647e4046994a7f8fb0957ff9",
              "version_minor": 0,
              "version_major": 2
            },
            "text/plain": [
              "HBox(children=(IntProgress(value=0, max=1452), HTML(value='')))"
            ]
          },
          "metadata": {
            "tags": []
          }
        },
        {
          "output_type": "stream",
          "text": [
            "\n"
          ],
          "name": "stdout"
        }
      ]
    },
    {
      "cell_type": "markdown",
      "metadata": {
        "colab_type": "text",
        "id": "inZ6nVqsE0Gx"
      },
      "source": [
        "## Nearest neighbors with Doc2Vec"
      ]
    },
    {
      "cell_type": "markdown",
      "metadata": {
        "id": "4guumBPzEFiC",
        "colab_type": "text"
      },
      "source": [
        "In this part, we train a doc2vec model on the set of descriptions.\n",
        "\n",
        "Note that we made the choice not to suppress from our dataset the products with an empty description field. Instead, we separate them from the the others products of data_for_features and just give them the value -1 as a feature.\n",
        "\n",
        "Then, we train a doc2vec model on the no-empty descriptions from data_for_features. We thus obtain a representation of our descriptions as vectors. We then take, for a given description, the 10 nearest description and the sum of the associated product's score. By score, we mean our objective: 1 if a given product has enouhg 5/5 ratings and 0 otherwise.\n",
        "\n"
      ]
    },
    {
      "cell_type": "markdown",
      "metadata": {
        "id": "_AD49mBUE32l",
        "colab_type": "text"
      },
      "source": [
        "Imports:"
      ]
    },
    {
      "cell_type": "code",
      "metadata": {
        "colab_type": "code",
        "id": "sGGHzDdq6OTH",
        "colab": {}
      },
      "source": [
        "import gensim\n",
        "from nltk import RegexpTokenizer\n",
        "from nltk.corpus import stopwords\n",
        "from os import listdir\n",
        "from os.path import isfile, join\n",
        "from gensim.test.utils import common_texts\n",
        "from gensim.models.doc2vec import Doc2Vec, TaggedDocument\n",
        "from gensim.models.doc2vec import Doc2Vec"
      ],
      "execution_count": 0,
      "outputs": []
    },
    {
      "cell_type": "markdown",
      "metadata": {
        "colab_type": "text",
        "id": "tN6aY8tkE3ts"
      },
      "source": [
        "Data selection before training (we delete NaNs) to get a sub-dataset of products with non-empty descriptions.\n"
      ]
    },
    {
      "cell_type": "code",
      "metadata": {
        "colab_type": "code",
        "id": "4JASCTPQ6PTy",
        "colab": {}
      },
      "source": [
        "doc2vec_indexes_to_drop = np.array([i for i in data_for_features.index.values.tolist() if type(data_for_features[\"description\"][i])!=list])\n",
        "doc2vec_train_data = data_for_features.drop(doc2vec_indexes_to_drop)\n",
        "\n",
        "tagged_data = [TaggedDocument(words=word_tokenize(str(_d).lower()), tags=[str(i)]) for i, _d in enumerate(doc2vec_train_data[\"description\"])]"
      ],
      "execution_count": 0,
      "outputs": []
    },
    {
      "cell_type": "markdown",
      "metadata": {
        "colab_type": "text",
        "id": "GMsMMmDQFBE4"
      },
      "source": [
        "Doc2Vec model training:"
      ]
    },
    {
      "cell_type": "code",
      "metadata": {
        "colab_type": "code",
        "id": "aBrMJwaM_xnB",
        "outputId": "e3a575d6-062f-4a28-91f7-e417f52d0ad7",
        "colab": {
          "base_uri": "https://localhost:8080/",
          "height": 309
        }
      },
      "source": [
        "max_epochs = 10\n",
        "vec_size = 20\n",
        "alpha = 0.025\n",
        "\n",
        "doc2vec_model = Doc2Vec(size=vec_size,\n",
        "                alpha=alpha, \n",
        "                min_alpha=0.00025,\n",
        "                min_count=1,\n",
        "                dm =1)\n",
        "  \n",
        "doc2vec_model.build_vocab(tagged_data)\n",
        "\n",
        "for epoch in range(max_epochs):\n",
        "    print('iteration {0}'.format(epoch))\n",
        "    doc2vec_model.train(tagged_data,\n",
        "                total_examples=doc2vec_model.corpus_count,\n",
        "                epochs=doc2vec_model.iter)\n",
        "    # decrease the learning rate\n",
        "    doc2vec_model.alpha -= 0.0002\n",
        "    # fix the learning rate, no decay\n",
        "    doc2vec_model.min_alpha = doc2vec_model.alpha\n",
        "\n",
        "doc2vec_model.save(\"d2v.model\")\n",
        "print(\"Model Saved\")"
      ],
      "execution_count": 80,
      "outputs": [
        {
          "output_type": "stream",
          "text": [
            "/usr/local/lib/python3.6/dist-packages/gensim/models/doc2vec.py:570: UserWarning: The parameter `size` is deprecated, will be removed in 4.0.0, use `vector_size` instead.\n",
            "  warnings.warn(\"The parameter `size` is deprecated, will be removed in 4.0.0, use `vector_size` instead.\")\n"
          ],
          "name": "stderr"
        },
        {
          "output_type": "stream",
          "text": [
            "iteration 0\n"
          ],
          "name": "stdout"
        },
        {
          "output_type": "stream",
          "text": [
            "/usr/local/lib/python3.6/dist-packages/ipykernel_launcher.py:17: DeprecationWarning: Call to deprecated `iter` (Attribute will be removed in 4.0.0, use self.epochs instead).\n"
          ],
          "name": "stderr"
        },
        {
          "output_type": "stream",
          "text": [
            "iteration 1\n",
            "iteration 2\n",
            "iteration 3\n",
            "iteration 4\n",
            "iteration 5\n",
            "iteration 6\n",
            "iteration 7\n",
            "iteration 8\n",
            "iteration 9\n",
            "Model Saved\n"
          ],
          "name": "stdout"
        },
        {
          "output_type": "stream",
          "text": [
            "/usr/local/lib/python3.6/dist-packages/smart_open/smart_open_lib.py:410: UserWarning: This function is deprecated, use smart_open.open instead. See the migration notes for details: https://github.com/RaRe-Technologies/smart_open/blob/master/README.rst#migrating-to-the-new-open-function\n",
            "  'See the migration notes for details: %s' % _MIGRATION_NOTES_URL\n"
          ],
          "name": "stderr"
        }
      ]
    },
    {
      "cell_type": "markdown",
      "metadata": {
        "colab_type": "text",
        "id": "PmeSWjfOFDzM"
      },
      "source": [
        "Computation of the product scores in our sub-dataset. These scores are deterministic and will be needed to compute, for a given description, the scores corresponding to its 10 nearest neighbors in our doc2vec model."
      ]
    },
    {
      "cell_type": "code",
      "metadata": {
        "colab_type": "code",
        "id": "QaptR-KZBh-o",
        "colab": {}
      },
      "source": [
        "labels =  np.array(list(doc2vec_train_data[\"nb_fives\"]))\n",
        "for i in range(len(labels)):\n",
        "  if labels[i]>2:\n",
        "    labels[i]=1\n",
        "  else:\n",
        "    labels[i]=0"
      ],
      "execution_count": 0,
      "outputs": []
    },
    {
      "cell_type": "markdown",
      "metadata": {
        "colab_type": "text",
        "id": "qzEYT6miFewI"
      },
      "source": [
        "Finally, we compute the feature: for a given product: \n",
        "\n",
        "1.   if this product's description is empty, the feature is worth -1\n",
        "2.   else, we take the 10 products the descriptions of which are the nearest of its description and we sum these products scores to get our feature.\n",
        "\n"
      ]
    },
    {
      "cell_type": "code",
      "metadata": {
        "colab_type": "code",
        "id": "ICCIyCRb_15U",
        "outputId": "694dd438-7375-4c0e-b8c4-87bd1f99e09f",
        "colab": {
          "base_uri": "https://localhost:8080/",
          "height": 171,
          "referenced_widgets": [
            "54d185a54df845d598e65d383fe0ec44",
            "457619d8d71d431f930aa5bbc65a127c",
            "562d97eabba541a79f3ff3bd64c34578",
            "75e3a100917f4efb80746a36992d80f9",
            "1fbbb349aa7f4a27a238a73bf9fe580a",
            "cb6baf1c0f3b4e1a8015e475f0083b88",
            "1d1a4feecd2f4fbc90d3ec690e755607",
            "088a9bfe05354fe78feacd45a42ba949"
          ]
        }
      },
      "source": [
        "def compute_doc2vec_feature_description(data):\n",
        "  \n",
        "  doc2vec_feature = np.zeros(len(data))\n",
        "  j=0\n",
        "  \n",
        "  for idx in tqdm(data.index.values.tolist()):\n",
        "    description_i = data[\"description\"][idx]\n",
        "    if not type(description_i)==list:\n",
        "      doc2vec_feature[j] = -1\n",
        "    else:\n",
        "      test_data = word_tokenize(str(description_i).lower())\n",
        "      v_idx = doc2vec_model.infer_vector(test_data)\n",
        "      nearest_neighbors = [int(tup[0]) for tup in doc2vec_model.docvecs.most_similar([v_idx],topn = 10 )]\n",
        "      doc2vec_feature[j] = labels[nearest_neighbors].sum()\n",
        "    j+=1\n",
        "  return(doc2vec_feature)\n",
        "\n",
        "doc2vec_feature_descriptions = compute_doc2vec_feature_description(data_for_model)"
      ],
      "execution_count": 82,
      "outputs": [
        {
          "output_type": "stream",
          "text": [
            "/usr/local/lib/python3.6/dist-packages/ipykernel_launcher.py:6: TqdmDeprecationWarning: This function will be removed in tqdm==5.0.0\n",
            "Please use `tqdm.notebook.tqdm` instead of `tqdm.tqdm_notebook`\n",
            "  \n"
          ],
          "name": "stderr"
        },
        {
          "output_type": "display_data",
          "data": {
            "application/vnd.jupyter.widget-view+json": {
              "model_id": "54d185a54df845d598e65d383fe0ec44",
              "version_minor": 0,
              "version_major": 2
            },
            "text/plain": [
              "HBox(children=(IntProgress(value=0, max=1452), HTML(value='')))"
            ]
          },
          "metadata": {
            "tags": []
          }
        },
        {
          "output_type": "stream",
          "text": [
            "/usr/local/lib/python3.6/dist-packages/gensim/matutils.py:737: FutureWarning: Conversion of the second argument of issubdtype from `int` to `np.signedinteger` is deprecated. In future, it will be treated as `np.int64 == np.dtype(int).type`.\n",
            "  if np.issubdtype(vec.dtype, np.int):\n"
          ],
          "name": "stderr"
        },
        {
          "output_type": "stream",
          "text": [
            "\n"
          ],
          "name": "stdout"
        }
      ]
    },
    {
      "cell_type": "markdown",
      "metadata": {
        "colab_type": "text",
        "id": "7Z_OlDSIl_Cj"
      },
      "source": [
        "Same feature with the product title (ie denomination)"
      ]
    },
    {
      "cell_type": "code",
      "metadata": {
        "colab_type": "code",
        "id": "VJQZNYN3mDYo",
        "colab": {}
      },
      "source": [
        "tagged_data = [TaggedDocument(words=word_tokenize(str(_d).lower()), tags=[str(i)]) for i, _d in enumerate(data_for_features[\"title\"])]"
      ],
      "execution_count": 0,
      "outputs": []
    },
    {
      "cell_type": "code",
      "metadata": {
        "colab_type": "code",
        "id": "c7r0pbmbmTAQ",
        "outputId": "eae87c35-41c3-43ab-bf8f-b86326138e20",
        "colab": {
          "base_uri": "https://localhost:8080/",
          "height": 309
        }
      },
      "source": [
        "max_epochs = 10\n",
        "vec_size = 20\n",
        "alpha = 0.025\n",
        "\n",
        "doc2vec_model = Doc2Vec(size=vec_size,\n",
        "                alpha=alpha, \n",
        "                min_alpha=0.00025,\n",
        "                min_count=1,\n",
        "                dm =1)\n",
        "  \n",
        "doc2vec_model.build_vocab(tagged_data)\n",
        "\n",
        "for epoch in range(max_epochs):\n",
        "    print('iteration {0}'.format(epoch))\n",
        "    doc2vec_model.train(tagged_data,\n",
        "                total_examples=doc2vec_model.corpus_count,\n",
        "                epochs=doc2vec_model.iter)\n",
        "    # decrease the learning rate\n",
        "    doc2vec_model.alpha -= 0.0002\n",
        "    # fix the learning rate, no decay\n",
        "    doc2vec_model.min_alpha = doc2vec_model.alpha\n",
        "\n",
        "doc2vec_model.save(\"d2v.model\")\n",
        "print(\"Model Saved\")"
      ],
      "execution_count": 84,
      "outputs": [
        {
          "output_type": "stream",
          "text": [
            "/usr/local/lib/python3.6/dist-packages/gensim/models/doc2vec.py:570: UserWarning: The parameter `size` is deprecated, will be removed in 4.0.0, use `vector_size` instead.\n",
            "  warnings.warn(\"The parameter `size` is deprecated, will be removed in 4.0.0, use `vector_size` instead.\")\n"
          ],
          "name": "stderr"
        },
        {
          "output_type": "stream",
          "text": [
            "iteration 0\n"
          ],
          "name": "stdout"
        },
        {
          "output_type": "stream",
          "text": [
            "/usr/local/lib/python3.6/dist-packages/ipykernel_launcher.py:17: DeprecationWarning: Call to deprecated `iter` (Attribute will be removed in 4.0.0, use self.epochs instead).\n"
          ],
          "name": "stderr"
        },
        {
          "output_type": "stream",
          "text": [
            "iteration 1\n",
            "iteration 2\n",
            "iteration 3\n",
            "iteration 4\n",
            "iteration 5\n",
            "iteration 6\n",
            "iteration 7\n",
            "iteration 8\n",
            "iteration 9\n",
            "Model Saved\n"
          ],
          "name": "stdout"
        },
        {
          "output_type": "stream",
          "text": [
            "/usr/local/lib/python3.6/dist-packages/smart_open/smart_open_lib.py:410: UserWarning: This function is deprecated, use smart_open.open instead. See the migration notes for details: https://github.com/RaRe-Technologies/smart_open/blob/master/README.rst#migrating-to-the-new-open-function\n",
            "  'See the migration notes for details: %s' % _MIGRATION_NOTES_URL\n"
          ],
          "name": "stderr"
        }
      ]
    },
    {
      "cell_type": "code",
      "metadata": {
        "colab_type": "code",
        "id": "ArfADT2BmX6Y",
        "colab": {}
      },
      "source": [
        "labels =  np.array(list(data_for_features[\"nb_fives\"]))\n",
        "for i in range(len(labels)):\n",
        "  if labels[i]>2:\n",
        "    labels[i]=1\n",
        "  else:\n",
        "    labels[i]=0"
      ],
      "execution_count": 0,
      "outputs": []
    },
    {
      "cell_type": "code",
      "metadata": {
        "colab_type": "code",
        "id": "4jk2H1QHl7eO",
        "outputId": "ff2d178d-6de9-4b04-95ee-3501718985cd",
        "colab": {
          "base_uri": "https://localhost:8080/",
          "height": 171,
          "referenced_widgets": [
            "941804ac0617409f9f3025aef04c6ad1",
            "78c8eaf53a004105bbbacb1d15118d7a",
            "88fb631450bf45e3938a7e8d52b2bd19",
            "eea58e4e1e03409194c261362c018d81",
            "0a8ec24c04db4553bbbaf901d99a51d8",
            "8c61c73da24545ba87af0e502f8bd451",
            "fe4daecab6104650a8ccae0669776970",
            "75d0805c0b564cc781684aadfb4a2afd"
          ]
        }
      },
      "source": [
        "def compute_doc2vec_feature_title(data):\n",
        "\n",
        "  doc2vec_feature = np.zeros(len(data))\n",
        "  j=0\n",
        "  for idx in tqdm(data.index.values.tolist()):\n",
        "\n",
        "    title_i = data[\"title\"][idx]\n",
        "\n",
        "    if not type(title_i)==str:\n",
        "      doc2vec_feature[j] = -1\n",
        "    else:\n",
        "      test_data = word_tokenize(str(title_i).lower())\n",
        "      v_idx = doc2vec_model.infer_vector(test_data)\n",
        "      nearest_neighbors = [int(tup[0]) for tup in doc2vec_model.docvecs.most_similar([v_idx],topn = 10 )]\n",
        "      doc2vec_feature[j] = labels[nearest_neighbors].sum()\n",
        "    j+=1\n",
        "  return(doc2vec_feature)\n",
        "\n",
        "doc2vec_feature_titles = compute_doc2vec_feature_title(data_for_model)"
      ],
      "execution_count": 86,
      "outputs": [
        {
          "output_type": "stream",
          "text": [
            "/usr/local/lib/python3.6/dist-packages/ipykernel_launcher.py:5: TqdmDeprecationWarning: This function will be removed in tqdm==5.0.0\n",
            "Please use `tqdm.notebook.tqdm` instead of `tqdm.tqdm_notebook`\n",
            "  \"\"\"\n"
          ],
          "name": "stderr"
        },
        {
          "output_type": "display_data",
          "data": {
            "application/vnd.jupyter.widget-view+json": {
              "model_id": "941804ac0617409f9f3025aef04c6ad1",
              "version_minor": 0,
              "version_major": 2
            },
            "text/plain": [
              "HBox(children=(IntProgress(value=0, max=1452), HTML(value='')))"
            ]
          },
          "metadata": {
            "tags": []
          }
        },
        {
          "output_type": "stream",
          "text": [
            "/usr/local/lib/python3.6/dist-packages/gensim/matutils.py:737: FutureWarning: Conversion of the second argument of issubdtype from `int` to `np.signedinteger` is deprecated. In future, it will be treated as `np.int64 == np.dtype(int).type`.\n",
            "  if np.issubdtype(vec.dtype, np.int):\n"
          ],
          "name": "stderr"
        },
        {
          "output_type": "stream",
          "text": [
            "\n"
          ],
          "name": "stdout"
        }
      ]
    },
    {
      "cell_type": "markdown",
      "metadata": {
        "id": "1x4g8GhTLtPI",
        "colab_type": "text"
      },
      "source": [
        "## Price"
      ]
    },
    {
      "cell_type": "code",
      "metadata": {
        "id": "qgqQieLTLvb7",
        "colab_type": "code",
        "colab": {}
      },
      "source": [
        "X_price = data_for_model[\"clean_price\"]"
      ],
      "execution_count": 0,
      "outputs": []
    },
    {
      "cell_type": "markdown",
      "metadata": {
        "colab_type": "text",
        "id": "SXjCD4U1T1Fk"
      },
      "source": [
        "# Design of a prediction model"
      ]
    },
    {
      "cell_type": "markdown",
      "metadata": {
        "id": "PnHKKjg4Ht1L",
        "colab_type": "text"
      },
      "source": [
        "We use an XGBoost prediction model. We train it on data_for_features and test it on data_for_model."
      ]
    },
    {
      "cell_type": "markdown",
      "metadata": {
        "id": "3NBMKtBtILSY",
        "colab_type": "text"
      },
      "source": [
        "Imports:"
      ]
    },
    {
      "cell_type": "code",
      "metadata": {
        "colab_type": "code",
        "id": "IytC-LXhUGaG",
        "colab": {}
      },
      "source": [
        "from xgboost import XGBClassifier\n",
        "from sklearn.metrics import accuracy_score\n",
        "from sklearn.metrics import f1_score"
      ],
      "execution_count": 0,
      "outputs": []
    },
    {
      "cell_type": "markdown",
      "metadata": {
        "id": "GOPPr14HIVhk",
        "colab_type": "text"
      },
      "source": [
        "We transpose our similarity estimators for technical considerations."
      ]
    },
    {
      "cell_type": "code",
      "metadata": {
        "id": "pIsuQMAoQ_jz",
        "colab_type": "code",
        "colab": {}
      },
      "source": [
        "X_similarity_w2v = np.transpose(X_similarity_w2v)\n",
        "#X_similarity_reviews_w2v = np.transpose(X_similarity_reviews_w2v)"
      ],
      "execution_count": 0,
      "outputs": []
    },
    {
      "cell_type": "markdown",
      "metadata": {
        "id": "pX9SxIL9PY7R",
        "colab_type": "text"
      },
      "source": [
        "## Feature selection:"
      ]
    },
    {
      "cell_type": "markdown",
      "metadata": {
        "id": "r7aLSwbuIiC5",
        "colab_type": "text"
      },
      "source": [
        "Below, the features with a \"True\" value are going to be tested for our model."
      ]
    },
    {
      "cell_type": "code",
      "metadata": {
        "id": "XFWk7q6nNXG6",
        "colab_type": "code",
        "colab": {}
      },
      "source": [
        "features = {\"Image\":True,\n",
        "            \"doc2vec_nearest_neighbors_titles\":True,\n",
        "            \"doc2vec_nearest_neighbors_descriptions\":True,\n",
        "            \"Title_length\":True,\n",
        "            \"Description_length\":True,\n",
        "            \"Brand_score\":True,\n",
        "            \"Price\":True,\n",
        "            \"word2vec_similarity_to_guarantee\":True,\n",
        "            \"word2vec_similarity_to_quality\":True,\n",
        "            \"word2vec_similarity_to_best\":True,\n",
        "            \"word2vec_similarity_to_new\":True,\n",
        "            \"word2vec_similarity_to_delivery\":True\n",
        "\n",
        "}\n",
        "\n"
      ],
      "execution_count": 0,
      "outputs": []
    },
    {
      "cell_type": "markdown",
      "metadata": {
        "id": "NPOy1YBmInqf",
        "colab_type": "text"
      },
      "source": [
        "In what folows, X_all contains every feature. X contains only the features we selected above. Below, do some technical preparatives and set the size of our testing set relatively to our dataset size."
      ]
    },
    {
      "cell_type": "code",
      "metadata": {
        "id": "SJ0nXG1lRkeo",
        "colab_type": "code",
        "colab": {}
      },
      "source": [
        "X_all = np.vstack((X_images, doc2vec_feature_titles,doc2vec_feature_descriptions,X_title_length,X_description_length,X_brand_score,X_price))\n",
        "\n",
        "X_all = np.vstack((X_all, X_similarity_w2v))\n",
        "#X_all = np.vstack((X_all, X_similarity_reviews_w2v))\n",
        "X_all = np.transpose(X_all)"
      ],
      "execution_count": 0,
      "outputs": []
    },
    {
      "cell_type": "code",
      "metadata": {
        "colab_type": "code",
        "id": "SjLvQotdUO4d",
        "colab": {}
      },
      "source": [
        "\n",
        "all_columns = [\"Image\",\"doc2vec_nearest_neighbors_titles\",\n",
        "\"doc2vec_nearest_neighbors_descriptions\",\"Title_length\",\n",
        "\"Description_length\",\"Brand_score\",\"Price\",\n",
        "\"word2vec_similarity_to_guarantee\",\n",
        "\"word2vec_similarity_to_quality\",\n",
        "\"word2vec_similarity_to_best\",\n",
        "\"word2vec_similarity_to_new\",\n",
        "\"word2vec_similarity_to_delivery\"]\n",
        "\n",
        "X=np.empty(len(data_for_model))\n",
        "columns = []\n",
        "X_empty = True\n",
        "i=0\n",
        "for c in all_columns:\n",
        "  if features[c]:\n",
        "    columns.append(c)\n",
        "    if X_empty:\n",
        "      X = X_all[:,i]\n",
        "      X_empty = False\n",
        "    else:\n",
        "      X = np.vstack((X,X_all[:,i]))\n",
        "      \n",
        "  i+=1\n",
        "X=X.transpose()\n",
        "X = pd.DataFrame(data = X,columns = columns )\n",
        "\n",
        "Y = np.array(list(data_for_model[\"nb_fives\"]))\n",
        "for i in range(len(Y)):\n",
        "  if Y[i]>2:\n",
        "    Y[i]=1\n",
        "  else:\n",
        "    Y[i]=0\n",
        "\n",
        "\n",
        "test_size = 0.3\n",
        "X_train, X_test, Y_train, Y_test = train_test_split(X, Y, test_size=test_size, random_state = 7) "
      ],
      "execution_count": 0,
      "outputs": []
    },
    {
      "cell_type": "markdown",
      "metadata": {
        "id": "c-P1MDeQJ-ud",
        "colab_type": "text"
      },
      "source": [
        "In the next cell, we compute the proportion of products whose score is 1. It gives in fact the correction rate of the constant estimator which always predict 1. It will be a good reference to assert the quality of our estimator."
      ]
    },
    {
      "cell_type": "code",
      "metadata": {
        "colab_type": "code",
        "id": "5WRxNnu3Y1Ru",
        "outputId": "e8b5055c-1fae-4a71-b132-aaf452481a6c",
        "colab": {
          "base_uri": "https://localhost:8080/",
          "height": 34
        }
      },
      "source": [
        "# Proportion of labels equal to 1\n",
        "np.sum(Y)/len(Y)\n",
        "\n",
        "# This proportion must be close to 0.50, else the best trivial predictor \n",
        "# (either the one always equal to 0 or the one always equal to 1) would be difficult to outperform"
      ],
      "execution_count": 124,
      "outputs": [
        {
          "output_type": "execute_result",
          "data": {
            "text/plain": [
              "0.47107438016528924"
            ]
          },
          "metadata": {
            "tags": []
          },
          "execution_count": 124
        }
      ]
    },
    {
      "cell_type": "markdown",
      "metadata": {
        "id": "7Lob3gieI1Vg",
        "colab_type": "text"
      },
      "source": [
        "# Definition, training and prediction of the model"
      ]
    },
    {
      "cell_type": "code",
      "metadata": {
        "colab_type": "code",
        "id": "Bo0JqBFoW78r",
        "outputId": "ec1aefd3-94d1-475f-b848-34489f161307",
        "colab": {
          "base_uri": "https://localhost:8080/",
          "height": 51
        }
      },
      "source": [
        "# fit model to training data\n",
        "model = XGBClassifier(max_depth = 3, learning_rate = 0.1,n_estimators=100, objective = 'binary:logistic')\n",
        "\n",
        "model.fit(X_train, Y_train)\n",
        "\n",
        "# make predictions for test data\n",
        "Y_pred = model.predict(X_test)\n",
        "\n",
        "# evaluate predictions\n",
        "accuracy = accuracy_score(Y_test, Y_pred)\n",
        "print(\"Accuracy: %.2f%%\" % (accuracy * 100.0))\n",
        "f1_sc = f1_score(Y_test, Y_pred)\n",
        "print(\"f1-score: %.2f%%\" % (f1_sc*100.0))"
      ],
      "execution_count": 125,
      "outputs": [
        {
          "output_type": "stream",
          "text": [
            "Accuracy: 75.92%\n",
            "f1-score: 74.45%\n"
          ],
          "name": "stdout"
        }
      ]
    },
    {
      "cell_type": "markdown",
      "metadata": {
        "id": "andISZWkI7_R",
        "colab_type": "text"
      },
      "source": [
        "# Features importance"
      ]
    },
    {
      "cell_type": "code",
      "metadata": {
        "colab_type": "code",
        "id": "9sU0gptFOGsG",
        "outputId": "18fdeb98-5b19-4f51-a171-f3793b952fa2",
        "colab": {
          "base_uri": "https://localhost:8080/",
          "height": 312
        }
      },
      "source": [
        "import xgboost as xgb\n",
        "\n",
        "xgb.plot_importance(model)"
      ],
      "execution_count": 126,
      "outputs": [
        {
          "output_type": "execute_result",
          "data": {
            "text/plain": [
              "<matplotlib.axes._subplots.AxesSubplot at 0x7fb87f2b7668>"
            ]
          },
          "metadata": {
            "tags": []
          },
          "execution_count": 126
        },
        {
          "output_type": "display_data",
          "data": {
            "image/png": "[encoded data removed]",
            "text/plain": [
              "<Figure size 432x288 with 1 Axes>"
            ]
          },
          "metadata": {
            "tags": [],
            "needs_background": "light"
          }
        }
      ]
    },
    {
      "cell_type": "markdown",
      "metadata": {
        "id": "yjmqeKt2qBVf",
        "colab_type": "text"
      },
      "source": [
        "We are surprised the presence of a picture is the least important feature. We thus check how many picture have a picture. We find that about 17% of the procucts have a picture, meaning that the feature concerns a minority of products and thus have little importance."
      ]
    },
    {
      "cell_type": "code",
      "metadata": {
        "id": "NnWmAwTSp0SG",
        "colab_type": "code",
        "outputId": "5368a437-e553-43be-d81e-2781fb98e566",
        "colab": {
          "base_uri": "https://localhost:8080/",
          "height": 34
        }
      },
      "source": [
        "np.sum(X_images)/len(X_images)"
      ],
      "execution_count": 127,
      "outputs": [
        {
          "output_type": "execute_result",
          "data": {
            "text/plain": [
              "0.16804407713498623"
            ]
          },
          "metadata": {
            "tags": []
          },
          "execution_count": 127
        }
      ]
    },
    {
      "cell_type": "markdown",
      "metadata": {
        "id": "zc2fRsvpI_nP",
        "colab_type": "text"
      },
      "source": [
        "# Graphic representation of the model"
      ]
    },
    {
      "cell_type": "code",
      "metadata": {
        "id": "rnj04d8ImwXr",
        "colab_type": "code",
        "outputId": "a3160a64-c8ae-4730-8ac2-ff97ca02c351",
        "colab": {
          "base_uri": "https://localhost:8080/",
          "height": 447
        }
      },
      "source": [
        "xgb.to_graphviz(model, num_trees=2)\n"
      ],
      "execution_count": 128,
      "outputs": [
        {
          "output_type": "execute_result",
          "data": {
            "text/plain": [
              "<graphviz.dot.Digraph at 0x7fb87f166f60>"
            ],
            "image/svg+xml": "<?xml version=\"1.0\" encoding=\"UTF-8\" standalone=\"no\"?>\n<!DOCTYPE svg PUBLIC \"-//W3C//DTD SVG 1.1//EN\"\n \"http://www.w3.org/Graphics/SVG/1.1/DTD/svg11.dtd\">\n<!-- Generated by graphviz version 2.40.1 (20161225.0304)\n -->\n<!-- Title: %3 Pages: 1 -->\n<svg width=\"1489pt\" height=\"305pt\"\n viewBox=\"0.00 0.00 1488.79 305.00\" xmlns=\"http://www.w3.org/2000/svg\" xmlns:xlink=\"http://www.w3.org/1999/xlink\">\n<g id=\"graph0\" class=\"graph\" transform=\"scale(1 1) rotate(0) translate(4 301)\">\n<title>%3</title>\n<polygon fill=\"#ffffff\" stroke=\"transparent\" points=\"-4,4 -4,-301 1484.7855,-301 1484.7855,4 -4,4\"/>\n<!-- 0 -->\n<g id=\"node1\" class=\"node\">\n<title>0</title>\n<ellipse fill=\"none\" stroke=\"#000000\" cx=\"730.643\" cy=\"-279\" rx=\"85.2851\" ry=\"18\"/>\n<text text-anchor=\"middle\" x=\"730.643\" y=\"-275.3\" font-family=\"Times,serif\" font-size=\"14.00\" fill=\"#000000\">Brand_score&lt;4.875</text>\n</g>\n<!-- 1 -->\n<g id=\"node2\" class=\"node\">\n<title>1</title>\n<ellipse fill=\"none\" stroke=\"#000000\" cx=\"564.643\" cy=\"-192\" rx=\"180.8681\" ry=\"18\"/>\n<text text-anchor=\"middle\" x=\"564.643\" y=\"-188.3\" font-family=\"Times,serif\" font-size=\"14.00\" fill=\"#000000\">doc2vec_nearest_neighbors_descriptions&lt;6.5</text>\n</g>\n<!-- 0&#45;&gt;1 -->\n<g id=\"edge1\" class=\"edge\">\n<title>0&#45;&gt;1</title>\n<path fill=\"none\" stroke=\"#0000ff\" d=\"M698.6366,-262.2255C672.7074,-248.6362 635.9379,-229.3654 607.4739,-214.4475\"/>\n<polygon fill=\"#0000ff\" stroke=\"#0000ff\" points=\"609.0304,-211.3118 598.5484,-209.7697 605.781,-217.5119 609.0304,-211.3118\"/>\n<text text-anchor=\"middle\" x=\"667.143\" y=\"-231.8\" font-family=\"Times,serif\" font-size=\"14.00\" fill=\"#000000\">yes</text>\n</g>\n<!-- 2 -->\n<g id=\"node3\" class=\"node\">\n<title>2</title>\n<ellipse fill=\"none\" stroke=\"#000000\" cx=\"897.643\" cy=\"-192\" rx=\"51.1914\" ry=\"18\"/>\n<text text-anchor=\"middle\" x=\"897.643\" y=\"-188.3\" font-family=\"Times,serif\" font-size=\"14.00\" fill=\"#000000\">Image&lt;0.5</text>\n</g>\n<!-- 0&#45;&gt;2 -->\n<g id=\"edge2\" class=\"edge\">\n<title>0&#45;&gt;2</title>\n<path fill=\"none\" stroke=\"#ff0000\" d=\"M762.8423,-262.2255C790.5526,-247.7896 830.5698,-226.9424 859.8038,-211.7127\"/>\n<polygon fill=\"#ff0000\" stroke=\"#ff0000\" points=\"861.6356,-214.7049 868.8872,-206.9806 858.4014,-208.4968 861.6356,-214.7049\"/>\n<text text-anchor=\"middle\" x=\"858.143\" y=\"-231.8\" font-family=\"Times,serif\" font-size=\"14.00\" fill=\"#000000\">no, missing</text>\n</g>\n<!-- 3 -->\n<g id=\"node4\" class=\"node\">\n<title>3</title>\n<ellipse fill=\"none\" stroke=\"#000000\" cx=\"257.643\" cy=\"-105\" rx=\"83.3857\" ry=\"18\"/>\n<text text-anchor=\"middle\" x=\"257.643\" y=\"-101.3\" font-family=\"Times,serif\" font-size=\"14.00\" fill=\"#000000\">Title_length&lt;196.5</text>\n</g>\n<!-- 1&#45;&gt;3 -->\n<g id=\"edge3\" class=\"edge\">\n<title>1&#45;&gt;3</title>\n<path fill=\"none\" stroke=\"#0000ff\" d=\"M504.356,-174.9154C450.4359,-159.6351 371.8196,-137.3562 317.9067,-122.078\"/>\n<polygon fill=\"#0000ff\" stroke=\"#0000ff\" points=\"318.7144,-118.6691 308.139,-119.3099 316.8058,-125.4039 318.7144,-118.6691\"/>\n<text text-anchor=\"middle\" x=\"465.143\" y=\"-144.8\" font-family=\"Times,serif\" font-size=\"14.00\" fill=\"#000000\">yes, missing</text>\n</g>\n<!-- 4 -->\n<g id=\"node5\" class=\"node\">\n<title>4</title>\n<ellipse fill=\"none\" stroke=\"#000000\" cx=\"564.643\" cy=\"-105\" rx=\"206.0634\" ry=\"18\"/>\n<text text-anchor=\"middle\" x=\"564.643\" y=\"-101.3\" font-family=\"Times,serif\" font-size=\"14.00\" fill=\"#000000\">word2vec_similarity_to_guarantee&lt;0.00374207972</text>\n</g>\n<!-- 1&#45;&gt;4 -->\n<g id=\"edge4\" class=\"edge\">\n<title>1&#45;&gt;4</title>\n<path fill=\"none\" stroke=\"#ff0000\" d=\"M564.643,-173.9735C564.643,-162.1918 564.643,-146.5607 564.643,-133.1581\"/>\n<polygon fill=\"#ff0000\" stroke=\"#ff0000\" points=\"568.1431,-133.0033 564.643,-123.0034 561.1431,-133.0034 568.1431,-133.0033\"/>\n<text text-anchor=\"middle\" x=\"572.643\" y=\"-144.8\" font-family=\"Times,serif\" font-size=\"14.00\" fill=\"#000000\">no</text>\n</g>\n<!-- 5 -->\n<g id=\"node10\" class=\"node\">\n<title>5</title>\n<ellipse fill=\"none\" stroke=\"#000000\" cx=\"897.643\" cy=\"-105\" rx=\"109.381\" ry=\"18\"/>\n<text text-anchor=\"middle\" x=\"897.643\" y=\"-101.3\" font-family=\"Times,serif\" font-size=\"14.00\" fill=\"#000000\">Description_length&lt;299.5</text>\n</g>\n<!-- 2&#45;&gt;5 -->\n<g id=\"edge9\" class=\"edge\">\n<title>2&#45;&gt;5</title>\n<path fill=\"none\" stroke=\"#0000ff\" d=\"M897.643,-173.9735C897.643,-162.1918 897.643,-146.5607 897.643,-133.1581\"/>\n<polygon fill=\"#0000ff\" stroke=\"#0000ff\" points=\"901.1431,-133.0033 897.643,-123.0034 894.1431,-133.0034 901.1431,-133.0033\"/>\n<text text-anchor=\"middle\" x=\"933.143\" y=\"-144.8\" font-family=\"Times,serif\" font-size=\"14.00\" fill=\"#000000\">yes, missing</text>\n</g>\n<!-- 6 -->\n<g id=\"node11\" class=\"node\">\n<title>6</title>\n<ellipse fill=\"none\" stroke=\"#000000\" cx=\"1205.643\" cy=\"-105\" rx=\"180.8681\" ry=\"18\"/>\n<text text-anchor=\"middle\" x=\"1205.643\" y=\"-101.3\" font-family=\"Times,serif\" font-size=\"14.00\" fill=\"#000000\">doc2vec_nearest_neighbors_descriptions&lt;6.5</text>\n</g>\n<!-- 2&#45;&gt;6 -->\n<g id=\"edge10\" class=\"edge\">\n<title>2&#45;&gt;6</title>\n<path fill=\"none\" stroke=\"#ff0000\" d=\"M937.9086,-180.6263C988.0315,-166.4682 1074.4724,-142.0515 1135.5567,-124.7971\"/>\n<polygon fill=\"#ff0000\" stroke=\"#ff0000\" points=\"1136.84,-128.0716 1145.512,-121.985 1134.9372,-121.3352 1136.84,-128.0716\"/>\n<text text-anchor=\"middle\" x=\"1078.643\" y=\"-144.8\" font-family=\"Times,serif\" font-size=\"14.00\" fill=\"#000000\">no</text>\n</g>\n<!-- 7 -->\n<g id=\"node6\" class=\"node\">\n<title>7</title>\n<ellipse fill=\"none\" stroke=\"#000000\" cx=\"78.643\" cy=\"-18\" rx=\"78.7863\" ry=\"18\"/>\n<text text-anchor=\"middle\" x=\"78.643\" y=\"-14.3\" font-family=\"Times,serif\" font-size=\"14.00\" fill=\"#000000\">leaf=&#45;0.10625004</text>\n</g>\n<!-- 3&#45;&gt;7 -->\n<g id=\"edge5\" class=\"edge\">\n<title>3&#45;&gt;7</title>\n<path fill=\"none\" stroke=\"#0000ff\" d=\"M223.5532,-88.4312C194.5964,-74.3572 152.8816,-54.0824 121.6372,-38.8966\"/>\n<polygon fill=\"#0000ff\" stroke=\"#0000ff\" points=\"122.8265,-35.5832 112.3025,-34.3596 119.7665,-41.8789 122.8265,-35.5832\"/>\n<text text-anchor=\"middle\" x=\"215.143\" y=\"-57.8\" font-family=\"Times,serif\" font-size=\"14.00\" fill=\"#000000\">yes, missing</text>\n</g>\n<!-- 8 -->\n<g id=\"node7\" class=\"node\">\n<title>8</title>\n<ellipse fill=\"none\" stroke=\"#000000\" cx=\"260.643\" cy=\"-18\" rx=\"85.2851\" ry=\"18\"/>\n<text text-anchor=\"middle\" x=\"260.643\" y=\"-14.3\" font-family=\"Times,serif\" font-size=\"14.00\" fill=\"#000000\">leaf=0.0307850875</text>\n</g>\n<!-- 3&#45;&gt;8 -->\n<g id=\"edge6\" class=\"edge\">\n<title>3&#45;&gt;8</title>\n<path fill=\"none\" stroke=\"#ff0000\" d=\"M258.2646,-86.9735C258.6709,-75.1918 259.2099,-59.5607 259.6721,-46.1581\"/>\n<polygon fill=\"#ff0000\" stroke=\"#ff0000\" points=\"263.1754,-46.1181 260.0222,-36.0034 256.1796,-45.8768 263.1754,-46.1181\"/>\n<text text-anchor=\"middle\" x=\"267.643\" y=\"-57.8\" font-family=\"Times,serif\" font-size=\"14.00\" fill=\"#000000\">no</text>\n</g>\n<!-- 9 -->\n<g id=\"node8\" class=\"node\">\n<title>9</title>\n<ellipse fill=\"none\" stroke=\"#000000\" cx=\"449.643\" cy=\"-18\" rx=\"85.2851\" ry=\"18\"/>\n<text text-anchor=\"middle\" x=\"449.643\" y=\"-14.3\" font-family=\"Times,serif\" font-size=\"14.00\" fill=\"#000000\">leaf=0.0948260948</text>\n</g>\n<!-- 4&#45;&gt;9 -->\n<g id=\"edge7\" class=\"edge\">\n<title>4&#45;&gt;9</title>\n<path fill=\"none\" stroke=\"#0000ff\" d=\"M540.8149,-86.9735C523.3931,-73.7935 499.6036,-55.7962 480.6938,-41.4906\"/>\n<polygon fill=\"#0000ff\" stroke=\"#0000ff\" points=\"482.7425,-38.6517 472.6558,-35.4097 478.5192,-44.2342 482.7425,-38.6517\"/>\n<text text-anchor=\"middle\" x=\"550.143\" y=\"-57.8\" font-family=\"Times,serif\" font-size=\"14.00\" fill=\"#000000\">yes, missing</text>\n</g>\n<!-- 10 -->\n<g id=\"node9\" class=\"node\">\n<title>10</title>\n<ellipse fill=\"none\" stroke=\"#000000\" cx=\"641.643\" cy=\"-18\" rx=\"88.2844\" ry=\"18\"/>\n<text text-anchor=\"middle\" x=\"641.643\" y=\"-14.3\" font-family=\"Times,serif\" font-size=\"14.00\" fill=\"#000000\">leaf=&#45;0.0375834294</text>\n</g>\n<!-- 4&#45;&gt;10 -->\n<g id=\"edge8\" class=\"edge\">\n<title>4&#45;&gt;10</title>\n<path fill=\"none\" stroke=\"#ff0000\" d=\"M580.5975,-86.9735C591.6445,-74.4919 606.5152,-57.6899 618.8135,-43.7944\"/>\n<polygon fill=\"#ff0000\" stroke=\"#ff0000\" points=\"621.7023,-45.8114 625.709,-36.0034 616.4605,-41.172 621.7023,-45.8114\"/>\n<text text-anchor=\"middle\" x=\"616.643\" y=\"-57.8\" font-family=\"Times,serif\" font-size=\"14.00\" fill=\"#000000\">no</text>\n</g>\n<!-- 11 -->\n<g id=\"node12\" class=\"node\">\n<title>11</title>\n<ellipse fill=\"none\" stroke=\"#000000\" cx=\"829.643\" cy=\"-18\" rx=\"80.6858\" ry=\"18\"/>\n<text text-anchor=\"middle\" x=\"829.643\" y=\"-14.3\" font-family=\"Times,serif\" font-size=\"14.00\" fill=\"#000000\">leaf=0.028488202</text>\n</g>\n<!-- 5&#45;&gt;11 -->\n<g id=\"edge11\" class=\"edge\">\n<title>5&#45;&gt;11</title>\n<path fill=\"none\" stroke=\"#0000ff\" d=\"M883.5534,-86.9735C873.8888,-74.6085 860.9102,-58.0036 850.1092,-44.1847\"/>\n<polygon fill=\"#0000ff\" stroke=\"#0000ff\" points=\"852.6305,-41.7269 843.7146,-36.0034 847.1152,-46.0376 852.6305,-41.7269\"/>\n<text text-anchor=\"middle\" x=\"904.143\" y=\"-57.8\" font-family=\"Times,serif\" font-size=\"14.00\" fill=\"#000000\">yes, missing</text>\n</g>\n<!-- 12 -->\n<g id=\"node13\" class=\"node\">\n<title>12</title>\n<ellipse fill=\"none\" stroke=\"#000000\" cx=\"1013.643\" cy=\"-18\" rx=\"85.2851\" ry=\"18\"/>\n<text text-anchor=\"middle\" x=\"1013.643\" y=\"-14.3\" font-family=\"Times,serif\" font-size=\"14.00\" fill=\"#000000\">leaf=0.0996880159</text>\n</g>\n<!-- 5&#45;&gt;12 -->\n<g id=\"edge12\" class=\"edge\">\n<title>5&#45;&gt;12</title>\n<path fill=\"none\" stroke=\"#ff0000\" d=\"M921.1174,-87.3943C938.6485,-74.2459 962.7964,-56.135 982.0268,-41.7122\"/>\n<polygon fill=\"#ff0000\" stroke=\"#ff0000\" points=\"984.3036,-44.3796 990.2036,-35.5796 980.1036,-38.7796 984.3036,-44.3796\"/>\n<text text-anchor=\"middle\" x=\"970.643\" y=\"-57.8\" font-family=\"Times,serif\" font-size=\"14.00\" fill=\"#000000\">no</text>\n</g>\n<!-- 13 -->\n<g id=\"node14\" class=\"node\">\n<title>13</title>\n<ellipse fill=\"none\" stroke=\"#000000\" cx=\"1204.643\" cy=\"-18\" rx=\"87.9851\" ry=\"18\"/>\n<text text-anchor=\"middle\" x=\"1204.643\" y=\"-14.3\" font-family=\"Times,serif\" font-size=\"14.00\" fill=\"#000000\">leaf=&#45;0.0594742112</text>\n</g>\n<!-- 6&#45;&gt;13 -->\n<g id=\"edge13\" class=\"edge\">\n<title>6&#45;&gt;13</title>\n<path fill=\"none\" stroke=\"#0000ff\" d=\"M1205.4358,-86.9735C1205.3004,-75.1918 1205.1207,-59.5607 1204.9667,-46.1581\"/>\n<polygon fill=\"#0000ff\" stroke=\"#0000ff\" points=\"1208.4648,-45.9624 1204.85,-36.0034 1201.4652,-46.043 1208.4648,-45.9624\"/>\n<text text-anchor=\"middle\" x=\"1241.143\" y=\"-57.8\" font-family=\"Times,serif\" font-size=\"14.00\" fill=\"#000000\">yes, missing</text>\n</g>\n<!-- 14 -->\n<g id=\"node15\" class=\"node\">\n<title>14</title>\n<ellipse fill=\"none\" stroke=\"#000000\" cx=\"1395.643\" cy=\"-18\" rx=\"85.2851\" ry=\"18\"/>\n<text text-anchor=\"middle\" x=\"1395.643\" y=\"-14.3\" font-family=\"Times,serif\" font-size=\"14.00\" fill=\"#000000\">leaf=0.0858938619</text>\n</g>\n<!-- 6&#45;&gt;14 -->\n<g id=\"edge14\" class=\"edge\">\n<title>6&#45;&gt;14</title>\n<path fill=\"none\" stroke=\"#ff0000\" d=\"M1244.0924,-87.3943C1274.8844,-73.2947 1318.1389,-53.4887 1350.5598,-38.6434\"/>\n<polygon fill=\"#ff0000\" stroke=\"#ff0000\" points=\"1352.1868,-41.7479 1359.8218,-34.4024 1349.2724,-35.3834 1352.1868,-41.7479\"/>\n<text text-anchor=\"middle\" x=\"1319.643\" y=\"-57.8\" font-family=\"Times,serif\" font-size=\"14.00\" fill=\"#000000\">no</text>\n</g>\n</g>\n</svg>\n"
          },
          "metadata": {
            "tags": []
          },
          "execution_count": 128
        }
      ]
    },
    {
      "cell_type": "markdown",
      "metadata": {
        "colab_type": "text",
        "id": "bMnNv_cjhVpq"
      },
      "source": [
        "# Result of the prediction model ***using only textual features***"
      ]
    },
    {
      "cell_type": "markdown",
      "metadata": {
        "colab_type": "text",
        "id": "Dtizbgw5hVsf"
      },
      "source": [
        "## Feature selection: we keep only textual features"
      ]
    },
    {
      "cell_type": "markdown",
      "metadata": {
        "colab_type": "text",
        "id": "J7R8vBo3hVsk"
      },
      "source": [
        "Below, the features with a \"True\" value are going to be tested for our model.\n",
        "We give a \"False\" value to all features using the reviews because we remind the reader that our main objective is to build an estimator predicting a product's success only from the information avalaible before its launching time, of which reviews are not a part of."
      ]
    },
    {
      "cell_type": "code",
      "metadata": {
        "colab_type": "code",
        "id": "IcMnOCP4hVsp",
        "colab": {}
      },
      "source": [
        "features = {\"Image\":False,\n",
        "            \"doc2vec_nearest_neighbors_titles\":True,\n",
        "            \"doc2vec_nearest_neighbors_descriptions\":True,\n",
        "            \"Title_length\":False,\n",
        "            \"Description_length\":False,\n",
        "            \"Brand_score\":False,\n",
        "            \"Price\":False,\n",
        "            \"word2vec_similarity_to_guarantee\":True,\n",
        "            \"word2vec_similarity_to_quality\":True,\n",
        "            \"word2vec_similarity_to_best\":True,\n",
        "            \"word2vec_similarity_to_new\":True,\n",
        "            \"word2vec_similarity_to_delivery\":True\n",
        "\n",
        "}\n"
      ],
      "execution_count": 0,
      "outputs": []
    },
    {
      "cell_type": "markdown",
      "metadata": {
        "colab_type": "text",
        "id": "QjmjrdEBhVtF"
      },
      "source": [
        "In what folows, X_all contains every feature. X contains only the features we selected above. Below, do some technical preparatives and set the size of our testing set relatively to our dataset size."
      ]
    },
    {
      "cell_type": "code",
      "metadata": {
        "colab_type": "code",
        "id": "nSQ06VXjhVtJ",
        "colab": {}
      },
      "source": [
        "X_all = np.vstack((X_images, doc2vec_feature_titles,doc2vec_feature_descriptions,X_title_length,X_description_length,X_brand_score,X_price))\n",
        "\n",
        "X_all = np.vstack((X_all, X_similarity_w2v))\n",
        "X_all = np.transpose(X_all)"
      ],
      "execution_count": 0,
      "outputs": []
    },
    {
      "cell_type": "code",
      "metadata": {
        "colab_type": "code",
        "id": "S3MG7zJLhVte",
        "colab": {}
      },
      "source": [
        "\n",
        "all_columns = [\"Image\",\"doc2vec_nearest_neighbors_titles\",\n",
        "\"doc2vec_nearest_neighbors_descriptions\",\"Title_length\",\n",
        "\"Description_length\",\"Brand_score\",\"Price\",\n",
        "\"word2vec_similarity_to_guarantee\",\n",
        "\"word2vec_similarity_to_quality\",\n",
        "\"word2vec_similarity_to_best\",\n",
        "\"word2vec_similarity_to_new\",\n",
        "\"word2vec_similarity_to_delivery\"]\n",
        "\n",
        "X=np.empty(len(data_for_model))\n",
        "columns = []\n",
        "X_empty = True\n",
        "i=0\n",
        "for c in all_columns:\n",
        "  if features[c]:\n",
        "    columns.append(c)\n",
        "    if X_empty:\n",
        "      X = X_all[:,i]\n",
        "      X_empty = False\n",
        "    else:\n",
        "      X = np.vstack((X,X_all[:,i]))\n",
        "      \n",
        "  i+=1\n",
        "X=X.transpose()\n",
        "X = pd.DataFrame(data = X,columns = columns )\n",
        "\n",
        "Y = np.array(list(data_for_model[\"nb_fives\"]))\n",
        "for i in range(len(Y)):\n",
        "  if Y[i]>2:\n",
        "    Y[i]=1\n",
        "  else:\n",
        "    Y[i]=0\n",
        "\n",
        "\n",
        "test_size = 0.3\n",
        "X_train, X_test, Y_train, Y_test = train_test_split(X, Y, test_size=test_size, random_state = 7)"
      ],
      "execution_count": 0,
      "outputs": []
    },
    {
      "cell_type": "markdown",
      "metadata": {
        "colab_type": "text",
        "id": "Jg_Mr1VghVtx"
      },
      "source": [
        "In the next cell, we compute the proportion of products whose score is 0. It gives in fact the correction rate of the constant estimator which always predict 0. It will be a good reference to assert the quality of our estimator."
      ]
    },
    {
      "cell_type": "code",
      "metadata": {
        "colab_type": "code",
        "outputId": "8695055a-7c7d-4492-c5fb-300ba29dd06a",
        "id": "6QcV9UmnhVt0",
        "colab": {
          "base_uri": "https://localhost:8080/",
          "height": 34
        }
      },
      "source": [
        "# Proportion of labels equal to 1\n",
        "np.sum(Y)/len(Y)\n",
        "\n",
        "# This proportion must be close to 0.50, else the best trivial predictor \n",
        "# (either the one always equal to 0 or the one always equal to 1) would be difficult to outperform"
      ],
      "execution_count": 132,
      "outputs": [
        {
          "output_type": "execute_result",
          "data": {
            "text/plain": [
              "0.47107438016528924"
            ]
          },
          "metadata": {
            "tags": []
          },
          "execution_count": 132
        }
      ]
    },
    {
      "cell_type": "markdown",
      "metadata": {
        "colab_type": "text",
        "id": "PyIwNd_jhVuD"
      },
      "source": [
        "# Definition, training and prediction of the model"
      ]
    },
    {
      "cell_type": "code",
      "metadata": {
        "colab_type": "code",
        "outputId": "dfd0954c-edc5-4216-e57f-5dda0faa69b2",
        "id": "hkq7nbo1hVuE",
        "colab": {
          "base_uri": "https://localhost:8080/",
          "height": 51
        }
      },
      "source": [
        "# fit model to training data\n",
        "textual_model = XGBClassifier(max_depth = 3, learning_rate = 0.1,n_estimators=100, objective = 'binary:logistic')\n",
        "\n",
        "textual_model.fit(X_train, Y_train)\n",
        "\n",
        "# make predictions for test data\n",
        "Y_pred = textual_model.predict(X_test)\n",
        "\n",
        "# evaluate predictions\n",
        "accuracy = accuracy_score(Y_test, Y_pred)\n",
        "print(\"Accuracy: %.2f%%\" % (accuracy * 100.0))\n",
        "f1_sc = f1_score(Y_test, Y_pred)\n",
        "print(\"f1-score: %.2f%%\" % (f1_sc*100.0))"
      ],
      "execution_count": 133,
      "outputs": [
        {
          "output_type": "stream",
          "text": [
            "Accuracy: 61.70%\n",
            "f1-score: 57.72%\n"
          ],
          "name": "stdout"
        }
      ]
    },
    {
      "cell_type": "markdown",
      "metadata": {
        "id": "anHb0f3W7R2Y",
        "colab_type": "text"
      },
      "source": [
        "# A greedy algorithm for feature selection\n",
        "\n",
        "Here we try to find the best features with a simple algorithm:\n",
        "\n",
        "We start with a feature we identified as always performant which is the brand score. From a qualitative point of view, it seems relevant that the brand is part of our greedy estimator because it gives an information intuitively relevant and independant from the others features. For each other feature, we train and evaluate the model, and we keep the one feature which gives the best accuracy. We now have two features and start again this procedure, until the accuracy does not increase any more. It must be run several times, in order not to overfit the data.\n",
        "\n",
        "We used this algorithm to select the features present in this notebook. The features we rejected were for instance word2vec similarity features with words such as \"essential\", \"game\"...."
      ]
    },
    {
      "cell_type": "code",
      "metadata": {
        "id": "ZC8onMqw77Mn",
        "colab_type": "code",
        "outputId": "da80f440-3ab4-4b71-bf3c-9635fa4b83d8",
        "colab": {
          "base_uri": "https://localhost:8080/",
          "height": 156
        }
      },
      "source": [
        "nb_features = 12\n",
        "T = [False for i in range(nb_features)] # Table containing True when the corresponding feature is selected, else False\n",
        "T[0]=True # We know that the brand score is our best feature\n",
        "best_accuracy = 0\n",
        "improvement = True\n",
        "while improvement: #while the accuracy can be improved\n",
        "  features_to_try = [i for i in range(nb_features) if not T[i]]\n",
        "  best_feature = 0\n",
        "  best_accuracy_temp = 0\n",
        "  for i in features_to_try :\n",
        "    T[i]=True\n",
        "\n",
        "    features = {\"Brand_score\":T[0],\n",
        "            \"Image\":T[1],\n",
        "            \"doc2vec_nearest_neighbors_titles\":T[2],\n",
        "            \"doc2vec_nearest_neighbors_descriptions\":T[3],\n",
        "            \"Title_length\":T[4],\n",
        "            \"Description_length\":T[5],\n",
        "            \"Price\":T[6],\n",
        "            \"word2vec_similarity_to_guarantee\":T[7],\n",
        "            \"word2vec_similarity_to_quality\":T[8],\n",
        "            \"word2vec_similarity_to_best\":T[9],\n",
        "            \"word2vec_similarity_to_new\":T[10],\n",
        "            \"word2vec_similarity_to_delivery\":T[11]\n",
        "\n",
        "      }\n",
        "\n",
        "    X=np.empty(len(data_for_model))\n",
        "    columns = []\n",
        "    X_empty = True\n",
        "    j=0\n",
        "    for c in all_columns:\n",
        "      if features[c]:\n",
        "        columns.append(c)\n",
        "        if X_empty:\n",
        "          X = X_all[:,j]\n",
        "          X_empty = False\n",
        "        else:\n",
        "          X = np.vstack((X,X_all[:,j]))     \n",
        "      j+=1\n",
        "    X=X.transpose()\n",
        "    X = pd.DataFrame(data = X,columns = columns)\n",
        "    X_train, X_test, Y_train, Y_test = train_test_split(X, Y, test_size=test_size)\n",
        "    model = XGBClassifier(max_depth = 3, learning_rate = 0.1,n_estimators=100, objective = 'binary:logistic')\n",
        "\n",
        "    model.fit(X_train, Y_train)\n",
        "\n",
        "    # make predictions for test data\n",
        "    Y_pred = model.predict(X_test)\n",
        "\n",
        "    # evaluate predictions\n",
        "    accuracy_temp = accuracy_score(Y_test, Y_pred)\n",
        "    if best_accuracy_temp < accuracy_temp:\n",
        "      best_accuracy_temp = accuracy_temp\n",
        "      best_feature = i\n",
        "    T[i]=False\n",
        "  if best_accuracy_temp > best_accuracy:\n",
        "    best_accuracy = best_accuracy_temp\n",
        "  else: \n",
        "    improvement = False\n",
        "  T[best_feature]=True\n",
        "  accuracy = best_accuracy_temp\n",
        "  print(\"Selected feature: \" + str(best_feature))\n",
        "  print(\"accuracy = \" + str(best_accuracy))\n",
        "\n",
        "best_T = T\n",
        "print(\"The best selection of features is given by this table: \" + str(best_T))"
      ],
      "execution_count": 134,
      "outputs": [
        {
          "output_type": "stream",
          "text": [
            "Selected feature: 4\n",
            "accuracy = 0.7729357798165137\n",
            "Selected feature: 10\n",
            "accuracy = 0.786697247706422\n",
            "Selected feature: 9\n",
            "accuracy = 0.786697247706422\n",
            "The best selection of features is given by this table: [True, False, False, False, True, False, False, False, False, True, True, False]\n"
          ],
          "name": "stdout"
        }
      ]
    },
    {
      "cell_type": "code",
      "metadata": {
        "id": "KSCKP5cwUPBz",
        "colab_type": "code",
        "colab": {
          "base_uri": "https://localhost:8080/",
          "height": 221
        },
        "outputId": "610c8bfd-da3a-4e27-ae93-b5f805855285"
      },
      "source": [
        "best_T # The best features are given by this table"
      ],
      "execution_count": 135,
      "outputs": [
        {
          "output_type": "execute_result",
          "data": {
            "text/plain": [
              "[True,\n",
              " False,\n",
              " False,\n",
              " False,\n",
              " True,\n",
              " False,\n",
              " False,\n",
              " False,\n",
              " False,\n",
              " True,\n",
              " True,\n",
              " False]"
            ]
          },
          "metadata": {
            "tags": []
          },
          "execution_count": 135
        }
      ]
    }
  ]
}